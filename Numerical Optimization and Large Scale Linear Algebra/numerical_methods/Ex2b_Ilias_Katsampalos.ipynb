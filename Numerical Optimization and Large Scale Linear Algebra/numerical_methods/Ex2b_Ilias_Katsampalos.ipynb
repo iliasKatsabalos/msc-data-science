{
 "cells": [
  {
   "cell_type": "markdown",
   "metadata": {},
   "source": [
    "# Numerical Optimization and Large Scale Linear Algebra - Assignment 2B\n",
    "## Ilias Katsampalos\n",
    "\n",
    "Disclaimer:\n",
    "The methods implemented below are built in such a way so that they can scale well and solve similar systems for which the convergence criteria for `A` are met. I am aware that, if I followed a more data-oriented design for the particular problem, I would be able to optimize the memory consumption, although, a more general solution was preferred in this case. "
   ]
  },
  {
   "cell_type": "code",
   "execution_count": 1,
   "metadata": {},
   "outputs": [],
   "source": [
    "import numpy as np\n",
    "from scipy.linalg import norm, solve, block_diag\n",
    "import time\n",
    "import pandas as pd\n",
    "from matplotlib import pyplot as plt\n",
    "import seaborn as sns\n",
    "sns.set(palette='deep', color_codes=True, font_scale=1.3)"
   ]
  },
  {
   "cell_type": "markdown",
   "metadata": {},
   "source": [
    "### Table Creation"
   ]
  },
  {
   "cell_type": "code",
   "execution_count": 2,
   "metadata": {},
   "outputs": [],
   "source": [
    "n = 32\n",
    "T = np.zeros((n**2, n**2))\n",
    "\n",
    "diag_ind = np.diag_indices(n**2)\n",
    "T[diag_ind] = 4\n",
    "lo_diag_ind_rows, lo_diag_ind_columns = np.diag_indices(n**2 - 1)\n",
    "lo_diag_ind_rows = lo_diag_ind_rows + 1\n",
    "T[lo_diag_ind_rows, lo_diag_ind_columns] = -1\n",
    "\n",
    "up_diag_ind_rows, up_diag_ind_columns = np.diag_indices(n**2 - 1)\n",
    "up_diag_ind_columns = up_diag_ind_columns + 1\n",
    "T[up_diag_ind_rows, up_diag_ind_columns] = -1\n",
    "\n",
    "#lower identity\n",
    "for i in range(n, n**2, n):\n",
    "    T[i:i+n, i-n:i] = -1 * np.identity(n)\n",
    "\n",
    "#upper identity\n",
    "for i in range(0, n**2 -n, n):\n",
    "    T[i:i+n, i+n:i+2*n] = -1 * np.identity(n)\n",
    "\n",
    "b = np.ones(n ** 2)"
   ]
  },
  {
   "cell_type": "markdown",
   "metadata": {},
   "source": [
    "## 1. Implemeneting the iterative methods"
   ]
  },
  {
   "cell_type": "markdown",
   "metadata": {},
   "source": [
    "### Point Jacobi\n",
    "\n",
    "For the point jacobi method the iterative scheme is quite trivial and can be implemented in parallel with vectorized operations.\n",
    "We know that $$Dx^{k+1} = (L+U)x^k + b$$\n",
    "Since D is a diagonal table, we do not need to find the inverse using elmination. In fact, we calculate $$D^{-1} = [\\frac{1}{a_{11}}, \\frac{1}{a_{22}},..., \\frac{1}{a_{nn}}]$$\n",
    "\n",
    "where $D^{-1}$ is a vector containing the inverse of the diagonal elements of A. Then, we can rewrite the previous expressions as:\n",
    "$$x^{k+1} = ((L+U)x^k + b) * {D}^{-1}$$\n",
    "where $D^{-1} = [\\frac{1}{a_{11}}, \\frac{1}{a_{22}},..., \\frac{1}{a_{nn}}]$ and $((L+U)x^k + b) * {D}^{-1} $ performs an element wise multiplication."
   ]
  },
  {
   "cell_type": "code",
   "execution_count": 3,
   "metadata": {},
   "outputs": [],
   "source": [
    "def jacobi(A, b, precision = 10**-6, max_iter = 2000, verbose=False, return_iter  = False):\n",
    "    start_time = time.time()\n",
    "    \n",
    "    #initialize x\n",
    "    x = np.random.uniform(size=len(A))\n",
    "    iter_counter = 0\n",
    "    \n",
    "    #break the table as A = D - (LU)\n",
    "    #D is the diagonal and LU = - (L + U)\n",
    "    D = np.diag(A)\n",
    "    LU = np.diagflat(D) - A\n",
    "    \n",
    "    error = np.finfo('double').max\n",
    "    \n",
    "    #calculate x_next while error is big enough or max iteration have not been reached\n",
    "    while error > precision and iter_counter <= max_iter:\n",
    "        x_next = (b + (LU @ x)) / D\n",
    "        iter_counter += 1\n",
    "        error = norm(x_next - x) / norm(x)\n",
    "        x = x_next\n",
    "    \n",
    "    end_time = time.time()\n",
    "    if verbose:\n",
    "        print(f'# found solutions {x}')\n",
    "        print(f'# in {iter_counter-1} iterations in {end_time - start_time} seconds')\n",
    "        print(f'# absolute relative error {error}')\n",
    "    \n",
    "    if return_iter:\n",
    "        return x, iter_counter-1\n",
    "    return x"
   ]
  },
  {
   "cell_type": "markdown",
   "metadata": {},
   "source": [
    "### Parallel Block Jacobi\n",
    "\n",
    "The block jacobi method involves the split of the table A in blocks and then the solution of small systems, 2x2, 4x4, 8x8. We have the epxression:\n",
    "$$D_{block}x^{k+1}_{block} = (L_{block}+U_{block})x^k_{block} + b_{block}$$\n",
    "\n",
    "In more detail, with a block size 2x2 it is written as:\n",
    "\n",
    "$$\n",
    "  \\begin{bmatrix}\n",
    "    a_{11} & a_{12} & & & & & \\\\\n",
    "    a_{21} & a_{22} & & & & &\\\\\n",
    "    & & a_{33} & a_{34} & & &\\\\\n",
    "    & & a_{43} & a_{44} & & &\\\\\n",
    "    & & & & \\ddots& &\\\\\n",
    "    & & & & & &\\\\\n",
    "    & & & & &  a_{n-1, n-1} &  a_{n-1, n}\\\\\n",
    "    & & & & & a_{n, n-1} & a_{n, n}\\\\\n",
    "  \\end{bmatrix} \n",
    "  \\begin{bmatrix}\n",
    "      x_1^{k+1}\\\\ \n",
    "      x_2^{k+1}\\\\\n",
    "      x_3^{k+1}\\\\\n",
    "      x_4^{k+1}\\\\\n",
    "      \\\\\n",
    "      \\vdots\\\\\n",
    "      x_{n_1}^{k+1}\\\\\n",
    "      x_n^{k+1}\\\\\n",
    "      \\end{bmatrix}\n",
    "  = \n",
    "  \\begin{bmatrix}\n",
    "    0& 0& -a_{13} & -a_{14} & \\ldots & -a_{1n-1}&-a_{1n} \\\\\n",
    "    0& 0& -a_{23} &-a_{24} & \\ldots & -a_{2n-1}&-a_{2n} \\\\\n",
    "    -a_{31}& -a_{32}& & & & &\\\\\n",
    "    -a_{41}&-a_{42} & & & & &\\\\\n",
    "    \\vdots& \\vdots& & & \\ddots& &\\\\\n",
    "    \\vdots& \\vdots& & &\\ddots& & &\\\\\n",
    "    -a_{n-1,1}& -a_{n-1,2}& & & & 0&0\\\\\n",
    "    -a_{n1}&-a_{n,2} & & & & 0&0\\\\\n",
    "  \\end{bmatrix} \n",
    "    \\begin{bmatrix}\n",
    "      x_1^{k}\\\\ \n",
    "      x_2^{k}\\\\\n",
    "      x_3^{k}\\\\\n",
    "      x_4^{k}\\\\\n",
    "      \\\\\n",
    "      \\vdots\\\\\n",
    "      x_{n_1}^{k}\\\\\n",
    "      x_n^{k}\\\\\n",
    "      \\end{bmatrix}\n",
    "    + \n",
    "    \\begin{bmatrix}\n",
    "      b_1^{k}\\\\ \n",
    "      b_2^{k}\\\\\n",
    "      b_3^{k}\\\\\n",
    "      b_4^{k}\\\\\n",
    "      \\\\\n",
    "      \\vdots\\\\\n",
    "      b_{n_1}^{k}\\\\\n",
    "      b_n^{k}\\\\\n",
    "      \\end{bmatrix}\n",
    "  $$\n",
    "\n",
    "Executing the operations on the right hand side of the system we have:\n",
    "\n",
    "$$\n",
    "  \\begin{bmatrix}\n",
    "    a_{11} & a_{12} & & & & & \\\\\n",
    "    a_{21} & a_{22} & & & & &\\\\\n",
    "    & & a_{33} & a_{34} & & &\\\\\n",
    "    & & a_{43} & a_{44} & & &\\\\\n",
    "    & & & & \\ddots& &\\\\\n",
    "    & & & & & &\\\\\n",
    "    & & & & &  a_{n-1, n-1} &  a_{n-1, n}\\\\\n",
    "    & & & & & a_{n, n-1} & a_{n, n}\\\\\n",
    "  \\end{bmatrix} \n",
    "  \\begin{bmatrix}\n",
    "      x_1^{k+1}\\\\ \n",
    "      x_2^{k+1}\\\\\n",
    "      x_3^{k+1}\\\\\n",
    "      x_4^{k+1}\\\\\n",
    "      \\\\\n",
    "      \\vdots\\\\\n",
    "      x_{n_1}^{k+1}\\\\\n",
    "      x_n^{k+1}\\\\\n",
    "      \\end{bmatrix}\n",
    "  = \n",
    "    \\begin{bmatrix}\n",
    "      \\hat{b_1}^{k}\\\\ \n",
    "      \\hat{b_2}^{k}\\\\\n",
    "      \\hat{b_3}^{k}\\\\\n",
    "      \\hat{b_4}^{k}\\\\\n",
    "      \\\\\n",
    "      \\vdots\\\\\n",
    "      \\hat{b_{n_1}}^{k}\\\\\n",
    "      \\hat{b_n^{k}}\\\\\n",
    "      \\end{bmatrix}\n",
    "  $$\n",
    "\n",
    "In our example we have a block size of 2x2 so for each iteration of the jacobi we have to solve the block systems of the form:\n",
    "\n",
    "$$\n",
    "  \\begin{bmatrix}\n",
    "    a_{ii} & a_{ii+1}\\\\\n",
    "    a_{i+1i} & a_{i+1i+1}\\\\\n",
    "  \\end{bmatrix} \n",
    "  \\begin{bmatrix}\n",
    "      x_i^{k+1}\\\\ \n",
    "      x_i+1^{k+1}\\\\\n",
    "      \\end{bmatrix}\n",
    "  = \n",
    "    \\begin{bmatrix}\n",
    "      \\hat{b_i}^{k}\\\\ \n",
    "      \\hat{b_{i+1}}^{k}\\\\\n",
    "      \\end{bmatrix}\n",
    "  $$\n",
    "  \n",
    "In the function below the block systems are solved in parallel. In order to do this, the matrix has been reshaped to 3-dimensional table `D_blocked`, with dimensions (p, block size, block size) where p = n/block size. Then by acceessing the elements `D_blocked[:, i, i]` we access the pivot elements of all the blocks simultaneously. Since we have the pivot elements, we  proceed in implementing Gauss Jordan elimination is parallel for all the blocks."
   ]
  },
  {
   "cell_type": "code",
   "execution_count": 4,
   "metadata": {},
   "outputs": [],
   "source": [
    "def parallel_block_jacobi(A, b, block_size=2, precision=10 ** -6, max_iter=300, verbose=False, return_iter  = False):\n",
    "    start_time = time.time()\n",
    "    iter_counter = 0\n",
    "    error = np.finfo('double').max\n",
    "    #dimension of the block table\n",
    "    p = A.shape[0] // block_size\n",
    "    n = len(A)\n",
    "    \n",
    "    #Calculate the block diagonal table\n",
    "    A_blocked = A.reshape(p, block_size, p, block_size).swapaxes(1, 2)\n",
    "    D_blocked = np.diagonal(A_blocked, axis1=0, axis2=1).T\n",
    "    \n",
    "    #calculate the LU table as Block Diagonal of A - A\n",
    "    LU = block_diag(*D_blocked) - A\n",
    "    \n",
    "    #initialize the vector x\n",
    "    x = np.random.uniform(size=n)\n",
    "    \n",
    "    #start the block jacobi iteration\n",
    "    while error > precision and iter_counter <= max_iter:\n",
    "        #initialize x^{k+1}\n",
    "        x_next = np.zeros(shape=(p, block_size))\n",
    "        \n",
    "        #A hat is the block diagonal shape (p, block size, block size)\n",
    "        A_hat = D_blocked.copy()\n",
    "        \n",
    "        #calculate the bhat and reshape to (p, block size)\n",
    "        b_hat = LU @ x + b\n",
    "        b_hat = b_hat.reshape(p, block_size)\n",
    "\n",
    "        #start parallel gaussian elimination\n",
    "        for i in range(block_size-1):\n",
    "            #access all the  pivot elements\n",
    "            pivot = A_hat[:, i, i]\n",
    "            \n",
    "            #eliminate all rows below the pivot\n",
    "            for j in range(i+1, block_size):\n",
    "                factor = A_hat[:, j, i] / pivot\n",
    "                A_hat[:, j, :] -= np.multiply(A_hat[:, i, :].T, factor).T\n",
    "                b_hat[:, j] -= b_hat[:, i] * factor\n",
    "        \n",
    "        #start backwards substitution\n",
    "        x_next[:, block_size-1] = b_hat[:, block_size-1] / A_hat[:,block_size-1, block_size-1] #element wise division\n",
    "        for k in range(block_size-2, -1, -1):\n",
    "            #np.einsum('ij,ij->i',...,...) dot product within the blocks\n",
    "            x_next[:, k] = (b_hat[:, k] - np.einsum('ij,ij->i', A_hat[:, k, k+1:], x_next[:, k+1:])) \\\n",
    "                           / A_hat[:, k, k] #element wise division\n",
    "        \n",
    "        #reshape x_next to original\n",
    "        x_next = x_next.reshape(n)\n",
    "        #calculate the error\n",
    "        error = norm(x_next - x) / norm(x)\n",
    "        x = x_next.copy()\n",
    "        iter_counter += 1\n",
    "\n",
    "    end_time = time.time()\n",
    "    if verbose:\n",
    "        print(f'# found solutions {x}')\n",
    "        print(f'# in {iter_counter - 1} iterations in {end_time - start_time} seconds')\n",
    "        print(f'# absolute relative error {error}')\n",
    "    \n",
    "    if return_iter:\n",
    "        return x, iter_counter-1\n",
    "    return x"
   ]
  },
  {
   "cell_type": "markdown",
   "metadata": {},
   "source": [
    "### Gauss - Seidel\n",
    "\n",
    "The Gauss-Seidel method is slightly different from the Jacobi method. Here the system that we are asked to solve is:\n",
    "$$(D-L)x^{k+1} = Ux^k + b$$\n",
    "\n",
    "where D-L is a lower triangular table. As a result the system can be solved with forward substitution."
   ]
  },
  {
   "cell_type": "code",
   "execution_count": 5,
   "metadata": {},
   "outputs": [],
   "source": [
    "def gauss_seidel(A, b, precision=10 ** -6, max_iter=1000, verbose=False, return_iter  = False):\n",
    "    start_time = time.time()\n",
    "    n = len(A)\n",
    "    x = np.random.uniform(size=n)\n",
    "    iter_counter = 0\n",
    "    error = np.finfo('double').max\n",
    "    \n",
    "    #extract the DL and U tables\n",
    "    DL = np.tril(A)\n",
    "    U = - np.triu(A, 1)\n",
    "\n",
    "    while error > precision and iter_counter <= max_iter:\n",
    "        #calculate the \\hat{b}\n",
    "        b_hat = U @ x + b\n",
    "        #initialize the vector x^{k+1}\n",
    "        x_next = np.zeros(n)\n",
    "        #start forward substitution\n",
    "        for i in range(n):\n",
    "            x_next[i] = (b_hat[i] - DL[i, :i] @ x_next[:i]) / DL[i, i]\n",
    "        #calculate the error\n",
    "        error = norm(x_next - x) / norm(x)\n",
    "        x = x_next.copy()\n",
    "        iter_counter += 1\n",
    "    \n",
    "    end_time = time.time()\n",
    "    if verbose:\n",
    "        print(f'# found solutions {x}')\n",
    "        print(f'# in {iter_counter-1} iterations in {end_time - start_time} seconds')\n",
    "        print(f'# absolute relative error {error}')\n",
    "    \n",
    "    if return_iter:\n",
    "        return x, iter_counter-1\n",
    "    return x"
   ]
  },
  {
   "cell_type": "markdown",
   "metadata": {},
   "source": [
    "### Block Gauss Seidel\n",
    "\n",
    "This method has similar mentality with the block jacobi method. The matrix `A` and the vectors `x` and `b` are split into blocks. We perform a forward substitution but for each iteration, a smaller system needs to be solved. Here, we cannot avoid the iterative nature of the problem thus we cannot proceed in solving the systems in parallel, since for each block $[x_i, x_{i+1}]$ the previous block of x $[x_{i-1}, x_{i-2}]$ must have been already calculated.\n",
    "\n",
    "For solving the block systems I used the `solve` method from scipy. An interesting implementation of the gaussian elimination for solving multiple systems in parallel was implemented in the block Jacobi method."
   ]
  },
  {
   "cell_type": "code",
   "execution_count": 6,
   "metadata": {},
   "outputs": [],
   "source": [
    "def block_gauss_seidel(A, b, block_size=2, precision=10 ** -6, max_iter=300, verbose=False, return_iter  = False):\n",
    "    start_time = time.time()\n",
    "    iter_counter = 0\n",
    "    error = np.finfo('double').max\n",
    "    p = A.shape[0] // block_size\n",
    "    n = len(A)\n",
    "    \n",
    "    #construct the upper triangular matrix\n",
    "    U = -A.copy()\n",
    "    for i in range(0,n,block_size):\n",
    "        U[i:i+block_size, :i+block_size] = 0\n",
    "    x = np.random.uniform(size=n)\n",
    "    x_next = np.zeros(n)\n",
    "    \n",
    "    #start iteration\n",
    "    while error > precision and iter_counter <= max_iter:\n",
    "        #calculate the right-hand side\n",
    "        b_hat = U @ x + b\n",
    "        x_next = np.zeros(n)\n",
    "        \n",
    "        #start forward substitution\n",
    "        x_next[0:block_size] = solve(A[:block_size, :block_size], b_hat[:block_size])\n",
    "        for i in range(1, p):\n",
    "            block_range = slice(i * block_size, (i + 1) * block_size)\n",
    "            #get the diagonal block\n",
    "            diag_block = A[block_range, block_range].copy()\n",
    "            #calculate b tilted \n",
    "            b_tilted = b_hat[block_range] - A[block_range, :i * block_size] @ x_next[:i * block_size]\n",
    "            #elimination for the values of x. the solve methods from scipy is used.\n",
    "            x_next[block_range] = solve(diag_block, b_tilted)\n",
    "\n",
    "        error = norm(x_next - x) / norm(x)\n",
    "        x = x_next.copy()\n",
    "        iter_counter += 1\n",
    "    \n",
    "    end_time = time.time()\n",
    "    if verbose:\n",
    "        print(f'# found solutions {x}')\n",
    "        print(f'# in {iter_counter-1} iterations in {end_time - start_time} seconds')\n",
    "        print(f'# absolute relative error {error}')\n",
    "    \n",
    "    if return_iter:\n",
    "        return x, iter_counter-1\n",
    "    return x"
   ]
  },
  {
   "cell_type": "markdown",
   "metadata": {},
   "source": [
    "Here is a sample execution of the four methods."
   ]
  },
  {
   "cell_type": "code",
   "execution_count": 7,
   "metadata": {},
   "outputs": [
    {
     "name": "stdout",
     "output_type": "stream",
     "text": [
      "# found solutions [2.02635687 3.5528831  4.77733584 ... 4.77733596 3.55288307 2.02635692]\n",
      "# in 843 iterations in 0.6442492008209229 seconds\n",
      "# absolute relative error 9.97734295123096e-05\n"
     ]
    }
   ],
   "source": [
    "res = jacobi(T, b, verbose=True, max_iter=10**4, precision=10**-4)"
   ]
  },
  {
   "cell_type": "code",
   "execution_count": 9,
   "metadata": {},
   "outputs": [
    {
     "name": "stdout",
     "output_type": "stream",
     "text": [
      "# found solutions [2.03066048 3.56136042 4.79002043 ... 4.7900206  3.56136027 2.03066041]\n",
      "# in 679 iterations in 0.5953564643859863 seconds\n",
      "# absolute relative error 9.961856847576137e-05\n"
     ]
    }
   ],
   "source": [
    "res = parallel_block_jacobi(T, b, 2, max_iter=10**4, precision=10**-4, verbose=True)"
   ]
  },
  {
   "cell_type": "code",
   "execution_count": 8,
   "metadata": {},
   "outputs": [
    {
     "name": "stdout",
     "output_type": "stream",
     "text": [
      "# found solutions [2.03366929 3.56752027 4.79927794 ... 4.80610627 3.57226638 2.03613319]\n",
      "# in 497 iterations in 2.1089560985565186 seconds\n",
      "# absolute relative error 9.941894758124211e-05\n"
     ]
    }
   ],
   "source": [
    "res = gauss_seidel(T, b, verbose=True, max_iter=10**4, precision=10**-4)"
   ]
  },
  {
   "cell_type": "code",
   "execution_count": 10,
   "metadata": {},
   "outputs": [
    {
     "name": "stdout",
     "output_type": "stream",
     "text": [
      "# found solutions [2.03616319 3.57234921 4.80648989 ... 4.81170176 3.57601408 2.03799839]\n",
      "# in 396 iterations in 18.001813173294067 seconds\n",
      "# absolute relative error 9.996463288159439e-05\n"
     ]
    }
   ],
   "source": [
    "res = block_gauss_seidel(T, b, 2, verbose=True, max_iter=10**4, precision=10**-4)"
   ]
  },
  {
   "cell_type": "markdown",
   "metadata": {},
   "source": [
    "Something that we can observe is that the number of iterations of the Jacobi methods, either point or block are almost double than the number of Gauss Seidel iterations. This is a confirmation of the corrolary `3.4` from \"Numerical Linear Algebra\" (Dougalis, Noutsos, Hatzidimos), where "
   ]
  },
  {
   "cell_type": "markdown",
   "metadata": {},
   "source": [
    "## 2. Performance Comparison\n",
    "In order to compare the performance of the iterative methods, we will perform 3 runs of each and extract an average, in order to have a stable result in case of fluctuations. Additionally, we will execute the functions with the same amount of required precision in order to compare them on an equal basis."
   ]
  },
  {
   "cell_type": "code",
   "execution_count": 11,
   "metadata": {},
   "outputs": [],
   "source": [
    "import pandas as pd\n",
    "def comparison_diagnostics(solver, name, *args):\n",
    "    runtime = []\n",
    "    errors = []\n",
    "    runs = 3\n",
    "    for i in range(runs):\n",
    "        start_time = time.time()\n",
    "        res = solver(*args)\n",
    "        end_time = time.time()\n",
    "        runtime.append(end_time - start_time)\n",
    "        b_hat = T @ res\n",
    "        error = norm(b - b_hat) / norm(b)\n",
    "        errors.append(error)\n",
    "    df = pd.DataFrame({'runtime':runtime, 'error':error})\n",
    "    df['solver'] = name\n",
    "    return df"
   ]
  },
  {
   "cell_type": "code",
   "execution_count": 12,
   "metadata": {},
   "outputs": [],
   "source": [
    "point_jacobi = comparison_diagnostics(jacobi, 'point_jacobi', T, b, 10**(-5), 10**6)"
   ]
  },
  {
   "cell_type": "code",
   "execution_count": 13,
   "metadata": {},
   "outputs": [],
   "source": [
    "parallel_jacobi_2_block = comparison_diagnostics(parallel_block_jacobi, 'block_jacobi_2_block', T, b, 2, 10**(-5), 10**6)\n",
    "parallel_jacobi_4_block = comparison_diagnostics(parallel_block_jacobi, 'block_jacobi_4_block', T, b, 4, 10**(-5), 10**6)\n",
    "parallel_jacobi_8_block = comparison_diagnostics(parallel_block_jacobi, 'block_jacobi_8_block', T, b, 8, 10**(-5), 10**6)"
   ]
  },
  {
   "cell_type": "code",
   "execution_count": 14,
   "metadata": {},
   "outputs": [],
   "source": [
    "point_gauss_seidel = comparison_diagnostics(gauss_seidel, 'point_gauss_seidel', T, b, 10**(-5), 10**6)"
   ]
  },
  {
   "cell_type": "code",
   "execution_count": 15,
   "metadata": {},
   "outputs": [],
   "source": [
    "gauss_seidel_2_block = comparison_diagnostics(block_gauss_seidel, 'block_gauss_seidel_2_block', T, b, 2, 10**(-5), 10**6)\n",
    "gauss_seidel_4_block = comparison_diagnostics(block_gauss_seidel, 'block_gauss_seidel_4_block', T, b, 4, 10**(-5), 10**6)\n",
    "gauss_seidel_8_block = comparison_diagnostics(block_gauss_seidel, 'block_gauss_seidel_8_block', T, b, 8, 10**(-5), 10**6)"
   ]
  },
  {
   "cell_type": "code",
   "execution_count": 18,
   "metadata": {},
   "outputs": [
    {
     "data": {
      "text/html": [
       "<div>\n",
       "<style scoped>\n",
       "    .dataframe tbody tr th:only-of-type {\n",
       "        vertical-align: middle;\n",
       "    }\n",
       "\n",
       "    .dataframe tbody tr th {\n",
       "        vertical-align: top;\n",
       "    }\n",
       "\n",
       "    .dataframe thead th {\n",
       "        text-align: right;\n",
       "    }\n",
       "</style>\n",
       "<table border=\"1\" class=\"dataframe\">\n",
       "  <thead>\n",
       "    <tr style=\"text-align: right;\">\n",
       "      <th></th>\n",
       "      <th>solver</th>\n",
       "      <th>avg_runtime</th>\n",
       "      <th>error</th>\n",
       "    </tr>\n",
       "  </thead>\n",
       "  <tbody>\n",
       "    <tr>\n",
       "      <td>0</td>\n",
       "      <td>block_gauss_seidel_2_block</td>\n",
       "      <td>25.959003</td>\n",
       "      <td>0.000728</td>\n",
       "    </tr>\n",
       "    <tr>\n",
       "      <td>1</td>\n",
       "      <td>block_gauss_seidel_4_block</td>\n",
       "      <td>13.450999</td>\n",
       "      <td>0.000603</td>\n",
       "    </tr>\n",
       "    <tr>\n",
       "      <td>2</td>\n",
       "      <td>block_gauss_seidel_8_block</td>\n",
       "      <td>5.700494</td>\n",
       "      <td>0.000539</td>\n",
       "    </tr>\n",
       "    <tr>\n",
       "      <td>6</td>\n",
       "      <td>point_gauss_seidel</td>\n",
       "      <td>3.108982</td>\n",
       "      <td>0.000915</td>\n",
       "    </tr>\n",
       "    <tr>\n",
       "      <td>5</td>\n",
       "      <td>block_jacobi_8_block</td>\n",
       "      <td>1.278969</td>\n",
       "      <td>0.001054</td>\n",
       "    </tr>\n",
       "    <tr>\n",
       "      <td>4</td>\n",
       "      <td>block_jacobi_4_block</td>\n",
       "      <td>0.891457</td>\n",
       "      <td>0.001173</td>\n",
       "    </tr>\n",
       "    <tr>\n",
       "      <td>7</td>\n",
       "      <td>point_jacobi</td>\n",
       "      <td>0.879260</td>\n",
       "      <td>0.001831</td>\n",
       "    </tr>\n",
       "    <tr>\n",
       "      <td>3</td>\n",
       "      <td>block_jacobi_2_block</td>\n",
       "      <td>0.852677</td>\n",
       "      <td>0.001373</td>\n",
       "    </tr>\n",
       "  </tbody>\n",
       "</table>\n",
       "</div>"
      ],
      "text/plain": [
       "                       solver  avg_runtime     error\n",
       "0  block_gauss_seidel_2_block    25.959003  0.000728\n",
       "1  block_gauss_seidel_4_block    13.450999  0.000603\n",
       "2  block_gauss_seidel_8_block     5.700494  0.000539\n",
       "6          point_gauss_seidel     3.108982  0.000915\n",
       "5        block_jacobi_8_block     1.278969  0.001054\n",
       "4        block_jacobi_4_block     0.891457  0.001173\n",
       "7                point_jacobi     0.879260  0.001831\n",
       "3        block_jacobi_2_block     0.852677  0.001373"
      ]
     },
     "execution_count": 18,
     "metadata": {},
     "output_type": "execute_result"
    }
   ],
   "source": [
    "comparisons = pd.concat([\n",
    "    point_jacobi\n",
    "    ,parallel_jacobi_2_block\n",
    "    ,parallel_jacobi_4_block\n",
    "    ,parallel_jacobi_8_block\n",
    "    ,point_gauss_seidel\n",
    "    ,gauss_seidel_2_block\n",
    "    ,gauss_seidel_4_block\n",
    "    ,gauss_seidel_8_block\n",
    "])\n",
    "\n",
    "agg = comparisons.groupby('solver').agg(avg_runtime = ('runtime', np.mean), error = ('error', np.mean)).reset_index()\n",
    "agg.sort_values(by='avg_runtime', ascending=False, inplace=True)\n",
    "agg"
   ]
  },
  {
   "cell_type": "code",
   "execution_count": 21,
   "metadata": {},
   "outputs": [
    {
     "data": {
      "image/png": "[encoded data removed]",
      "text/plain": [
       "<Figure size 1152x432 with 2 Axes>"
      ]
     },
     "metadata": {
      "needs_background": "light"
     },
     "output_type": "display_data"
    }
   ],
   "source": [
    "fig, axs = plt.subplots(1,2, figsize=(16,6))\n",
    "fig.subplots_adjust(wspace=0.8)\n",
    "\n",
    "\n",
    "sns.barplot('avg_runtime', 'solver', data=agg, color='grey', ax=axs[0])\n",
    "axs[0].set_xlabel('Avg Runtime (sec)')\n",
    "axs[0].title.set_text('Avg Runtime for 3 executions')\n",
    "\n",
    "sns.barplot('error', 'solver', data=agg, color='grey', ax=axs[1])\n",
    "axs[1].set_xlabel('Error')\n",
    "axs[1].title.set_text('Reconstruction Absolute Relative Error $||A\\hat{x} - b|| / ||b\\||$')\n",
    "plt.show()"
   ]
  },
  {
   "cell_type": "markdown",
   "metadata": {},
   "source": [
    "Looking at the runtime results we can observe the following:\n",
    "\n",
    "* The fastest methods are the point Jacobi as well as the block jacobi with ~0.8 seconds\n",
    "* The slowest method is the block gauss seidel where the block size is 2x2\n",
    "* Jacobi methods seem to have a faster runtime, although the relative erros when recalculating b are larger than those of the Gauss Seidel methods\n",
    "\n",
    "The Jacobi methods are faster in our case because:\n",
    "\n",
    "* the point Jacobi uses vectorized operations, avoiding unecessary loops\n",
    "* the block Jacobi method solves the block systems with Gaussian Elimination `in parallel`, so the for loop has a fixed number of iterations depending on the block size."
   ]
  },
  {
   "cell_type": "markdown",
   "metadata": {},
   "source": [
    "## 3. SOR\n",
    "\n",
    "The Successive overelaxation method is similar to the Gauss Seidel method. In this method, the parameter $\\omega$ is introduced such as: $$\\frac{1}{\\omega}(D - \\omega L) x^{k+1} = (\\frac{(1-\\omega)}{\\omega}D + U) x^k + b$$. Similarly to the Gauss Seidel method, the matrix $\\frac{1}{\\omega}(D - \\omega L) $ is lower triangular thus the solution involves a forward substitution for each iteration."
   ]
  },
  {
   "cell_type": "code",
   "execution_count": 65,
   "metadata": {},
   "outputs": [],
   "source": [
    "def sor(A, b, omega, precision=10 ** -6, max_iter=1000, verbose=False, return_iter=False):\n",
    "    start_time = time.time()\n",
    "    n = len(A)\n",
    "    x = np.random.uniform(size=n)\n",
    "    iter_counter = 0\n",
    "    error = np.finfo('double').max\n",
    "    \n",
    "    #calculate lower, upper and diagonal matrices\n",
    "    L = - np.tril(A, -1)\n",
    "    U = - np.triu(A, 1)\n",
    "    D = np.diag(np.diag(T))\n",
    "    \n",
    "    #calculate M and N\n",
    "    M = 1/omega * (D - omega*L)\n",
    "    N = (1-omega)/omega * D + U\n",
    "    \n",
    "    #start iteration\n",
    "    while error > precision and iter_counter <= max_iter:\n",
    "        b_hat = N @ x + b\n",
    "        x_next = np.zeros(n)\n",
    "        #forward substitution\n",
    "        for i in range(n):\n",
    "            x_next[i] = (b_hat[i] - M[i, :i] @ x_next[:i]) / M[i, i]\n",
    "        error = norm(x_next - x) / norm(x)\n",
    "        x = x_next.copy()\n",
    "        iter_counter += 1\n",
    "    \n",
    "    end_time = time.time()\n",
    "    if verbose:\n",
    "        print(f'# found solutions {x}')\n",
    "        print(f'# in {iter_counter-1} iterations in {end_time - start_time} seconds')\n",
    "        print(f'# absolute relative error {error}')\n",
    "    \n",
    "    if return_iter:\n",
    "        return x, iter_counter  -1\n",
    "    \n",
    "    return x"
   ]
  },
  {
   "cell_type": "code",
   "execution_count": 66,
   "metadata": {},
   "outputs": [
    {
     "name": "stdout",
     "output_type": "stream",
     "text": [
      "# found solutions [2.04369966 3.5873953  4.82872482 ... 4.82881606 3.58745244 2.04372625]\n",
      "# in 84 iterations in 0.747668981552124 seconds\n",
      "# absolute relative error 9.986399543462499e-07\n"
     ]
    }
   ],
   "source": [
    "res = sor(T, b, 1.85, verbose=True)"
   ]
  },
  {
   "cell_type": "markdown",
   "metadata": {},
   "source": [
    "Then we need to find the $\\omega_{opt}$"
   ]
  },
  {
   "cell_type": "code",
   "execution_count": 67,
   "metadata": {},
   "outputs": [
    {
     "name": "stderr",
     "output_type": "stream",
     "text": [
      "100%|██████████████████████████████████████████████████████████████████████████████████| 20/20 [01:17<00:00,  3.85s/it]\n"
     ]
    }
   ],
   "source": [
    "from tqdm import tqdm\n",
    "\n",
    "runtimes = []\n",
    "errors = []\n",
    "omegas = np.arange(1,1.96,0.05)\n",
    "iterations = []\n",
    "for omega in tqdm(omegas):\n",
    "    start_time = time.time()\n",
    "    res, iter_ = sor(T, b, omega=omega, verbose=False, max_iter=10000, return_iter=True)\n",
    "    end_time = time.time()\n",
    "    b_hat = T @ res\n",
    "    error = norm(b - b_hat) / norm(b)\n",
    "    errors.append(error)\n",
    "    runtimes.append(end_time - start_time)\n",
    "    iterations.append(iter_)"
   ]
  },
  {
   "cell_type": "code",
   "execution_count": 78,
   "metadata": {},
   "outputs": [
    {
     "data": {
      "image/png": "[encoded data removed]",
      "text/plain": [
       "<Figure size 576x432 with 1 Axes>"
      ]
     },
     "metadata": {},
     "output_type": "display_data"
    },
    {
     "name": "stdout",
     "output_type": "stream",
     "text": [
      "omega optimum between 1.8000000000000007 and 1.9000000000000008 ran over 85.0 iterations\n"
     ]
    }
   ],
   "source": [
    "sor_results = pd.DataFrame({\n",
    "    'omega': omegas\n",
    "    ,'runtime': runtimes\n",
    "    ,'error': errors\n",
    "    ,'iterations': iterations\n",
    "    \n",
    "})\n",
    "\n",
    "fig, axs = plt.subplots(figsize=(8,6))\n",
    "sns.lineplot(sor_results.omega, sor_results.iterations)\n",
    "plt.title('No Iterations over different relaxation parameter $\\omega$')\n",
    "plt.show()\n",
    "\n",
    "opt_index = sor_results.iterations.idxmin()\n",
    "w_opt_range = sor_results.iloc[opt_index-1: opt_index+2].omega\n",
    "min_iterations = sor_results.iloc[sor_results.iterations.idxmin()].iterations\n",
    "print(f'omega optimum between {w_opt_range.min()} and {w_opt_range.max()} ran over {min_iterations} iterations')"
   ]
  },
  {
   "cell_type": "markdown",
   "metadata": {},
   "source": [
    "From the theorem `3.8` from \"Numerical Linear Algebra\" (Dougalis, Noutsos, Hatzidimos) we know that\n",
    "$$\\omega_{opt} = \\frac{2}{1+\\sqrt{1+\\beta^2}}$$ where $\\beta = \\rho(T_{jacobi})$\n",
    "\n",
    "as long as the table is-two cyclic and $\\beta = \\rho(T_{jacobi}) < 1$ or in other words the Jacobi method converges. We already know that the Jacobi method converges since `T` is a diagonally dominant matrix, meaning that the sum of non diagonal elements is less than the diagonal element. We also know, from the definition, that `T` is a block tridiagonal matrix which by definition is a two-cyclic matrix. Since all the conditions of the theorem are satisfied and assuming that we know analytically the eigenvalues of $T_{jacobi}$ we have:"
   ]
  },
  {
   "cell_type": "code",
   "execution_count": 4,
   "metadata": {},
   "outputs": [],
   "source": [
    "from scipy.linalg import eigvals\n",
    "\n",
    "#calculate the T jacobi table\n",
    "D = T * np.identity(len(T))\n",
    "D_inv = np.diag(1/np.diag(D))\n",
    "L = -np.tril(T, -1)\n",
    "U = -np.triu(T, 1)\n",
    "T_jacobi = D_inv @ (L+U)"
   ]
  },
  {
   "cell_type": "code",
   "execution_count": 5,
   "metadata": {},
   "outputs": [],
   "source": [
    "# find the eigenvalues and keep the one with the maximum absolute value\n",
    "ev  = eigvals(T_jacobi)\n",
    "sr = max(abs(ev))"
   ]
  },
  {
   "cell_type": "code",
   "execution_count": 6,
   "metadata": {},
   "outputs": [
    {
     "name": "stdout",
     "output_type": "stream",
     "text": [
      "optimum omega: 1.8263905415884794\n"
     ]
    }
   ],
   "source": [
    "omega_opt = 2 / (1+np.sqrt(1-sr**2))\n",
    "print (f'optimum omega: {omega_opt}')"
   ]
  },
  {
   "cell_type": "markdown",
   "metadata": {},
   "source": [
    "Indeed the optimum $\\omega$ falls between the range observed when we tried to approach it experimentally."
   ]
  },
  {
   "cell_type": "markdown",
   "metadata": {},
   "source": [
    "## 4. $\\omega_{opt}$\n",
    "We know from the theorem of Kahan that in order for the SOR method to converge we need:\n",
    "$$|\\omega-1|<1$$\n",
    "\n",
    "Also from our experimental results, we observed that values greater than the optimum $\\omega$ converged much faster than values less than optimum $\\omega$. As a results, based on our findings, it is better to overestimate $\\omega$, always in the range defined by Kahan's theorem, otherwise the system will not converge."
   ]
  }
 ],
 "metadata": {
  "kernelspec": {
   "display_name": "Python 3",
   "language": "python",
   "name": "python3"
  },
  "language_info": {
   "codemirror_mode": {
    "name": "ipython",
    "version": 3
   },
   "file_extension": ".py",
   "mimetype": "text/x-python",
   "name": "python",
   "nbconvert_exporter": "python",
   "pygments_lexer": "ipython3",
   "version": "3.8.5"
  }
 },
 "nbformat": 4,
 "nbformat_minor": 4
}
