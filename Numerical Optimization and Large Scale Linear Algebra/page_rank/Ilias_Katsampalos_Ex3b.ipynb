{
 "cells": [
  {
   "cell_type": "markdown",
   "metadata": {},
   "source": [
    "# Numerical Optimization and Large Scale Linear Algebra \n",
    "# Assignment 3b\n",
    "## Ilias Katsampalos"
   ]
  },
  {
   "cell_type": "code",
   "execution_count": 1,
   "metadata": {},
   "outputs": [],
   "source": [
    "import pandas as pd\n",
    "import numpy as np\n",
    "from scipy.sparse import csr_matrix, tril, triu, identity\n",
    "from scipy.sparse.linalg import spsolve_triangular\n",
    "import time"
   ]
  },
  {
   "cell_type": "markdown",
   "metadata": {},
   "source": [
    "# 1. Construct the Adjacency Matrix"
   ]
  },
  {
   "cell_type": "code",
   "execution_count": 2,
   "metadata": {},
   "outputs": [],
   "source": [
    "data = pd.read_csv('stanweb.dat', delimiter='\\t', header=None)\n",
    "data.columns = ['from_node', 'to_node', 'weight']\n",
    "# -1 in order to adjust the indices to start at 0\n",
    "data.from_node -= 1\n",
    "data.to_node -= 1"
   ]
  },
  {
   "cell_type": "code",
   "execution_count": 3,
   "metadata": {},
   "outputs": [],
   "source": [
    "n = data.from_node.max() +1 \n",
    "G = csr_matrix((data.weight, (data.to_node, data.from_node)), shape=(n,n))"
   ]
  },
  {
   "cell_type": "markdown",
   "metadata": {},
   "source": [
    "# 2. Adjust for dangling columns"
   ]
  },
  {
   "cell_type": "markdown",
   "metadata": {},
   "source": [
    "Chapter 4 describes how the dangling nodes could be stored and combined with the original Adjacency matrix efficiently. This could be achieved with creating a vector $a$ where $a_i = 1$ if the ith node is of degree 0 and $a_i = 1$ otherwise. Taking the outer product of **v**, which is a n dimensional vector where each element is $v_i = \\frac{1}{n}$ (where n is the number of nodes) with **a**, we create a sparse rank one matrix. Then we can have the following expression:\n",
    "\n",
    "$$\\bar{G} = G + va^T$$"
   ]
  },
  {
   "cell_type": "code",
   "execution_count": 112,
   "metadata": {},
   "outputs": [],
   "source": [
    "#find nodes that have incoming connections but no outgoing connections\n",
    "diff = np.setdiff1d(data.to_node, data.from_node)\n",
    "a = np.zeros(n)\n",
    "a[diff] = 1\n",
    "v = np.ones((n,1)) / n\n",
    "e = np.ones((n,1))"
   ]
  },
  {
   "cell_type": "markdown",
   "metadata": {},
   "source": [
    "## 3. Transitioning\n",
    "\n",
    "Transitioning occurs where a user types a specific web page into the browser rather than keeping on traversing the graph. We define with the probability `t` the event that a user keeps on traversing the graph and `1-t` the probability to transition arbitarily to any other page.\n",
    "\n",
    "Thus the original adjacency matrix could be expressed as:\n",
    "$$\\bar{\\bar{G}} = t\\bar{G} + (1-t)ve^T = t(G + va^T) + (1-t)ve^T$$"
   ]
  },
  {
   "cell_type": "markdown",
   "metadata": {},
   "source": [
    "# 4. The Power Method\n",
    "\n",
    "The power method involves the solution of the eigenvector problem\n",
    "$$x^{k+1} = \\bar{\\bar{G}}x^{k}$$\n",
    "\n",
    "We can solve the system above iterativeley.\n",
    "$$\n",
    "\\begin{align*}\n",
    "    x^{k+1} &= \\bar{\\bar{G}}x^{k}\\\\\n",
    "    &= (t\\bar{G} + (1-t)ve^T)x^{k} \\\\\n",
    "    &= t\\bar{G}x^{k} + (1-t)ve^Tx^{k}\n",
    "\\end{align*}\n",
    "$$\n",
    "\n",
    "$e^Tx^{k} = 1$ since $e^T=[1,1,1...1]$ n times and $x^{k}$ must sum to 1 since it is a probability distribution vector.\n",
    "Thus we have:\n",
    "$$\n",
    "\\begin{align*}\n",
    "    x^{k+1} &= \\bar{\\bar{G}}x^{k}\\\\\n",
    "    &= (t\\bar{G} + (1-t)ve^T)x^{k} \\\\\n",
    "    &= t\\bar{G}x^{k} + (1-t)ve^Tx^{k}\\\\\n",
    "    &= t\\bar{G}x^{k} + (1-t)v\\\\\n",
    "    &= t(G+va^T)x^{k} + (1-t)v\\\\\n",
    "    &= tGx^{k} + tva^Tx^{k} + (1-t)v\\\\\n",
    "    &= tGx^{k} + [ta^Tx^{k} + (1-t)]v\\\\\n",
    "\\end{align*}\n",
    "$$\n",
    "\n",
    "where \n",
    "* t: probability to transition to any arbitary node\n",
    "* G: the initial sparse matrix\n",
    "* v: [1/n, 1/n, ..., 1/n] n dimensional vector\n",
    "* a: the vector containing 1s if a node is dangling and 0 otherwise\n"
   ]
  },
  {
   "cell_type": "code",
   "execution_count": 344,
   "metadata": {},
   "outputs": [],
   "source": [
    "def power_method(G, a, t, tol=1e-8, max_iter=1000, return_iter_per_rank=False):\n",
    "    \n",
    "    start_time = time.time()\n",
    "    \n",
    "    n = G.shape[0]\n",
    "    #initialize the error\n",
    "    rel_error = np.finfo('double').max\n",
    "    #initialize the ranking x\n",
    "    x = np.ones(n) / n\n",
    "\n",
    "    transition = (1-t) / np.ones(n)\n",
    "    #initialize v as 1/number of nodes\n",
    "    v = np.ones(n) / n\n",
    "    \n",
    "    iter_counter = 0\n",
    "    #flag for creating array that will hold the number of iterations \n",
    "    #until convergence of each element\n",
    "    if return_iter_per_rank:\n",
    "        iter_per_rank = np.zeros(n)\n",
    "    \n",
    "    #start the iterative process\n",
    "    while rel_error > tol and iter_counter <= max_iter:\n",
    "        #calculate x_next\n",
    "        x_next = t * G @ x + (t * a.T @ x + (1-t)) * v\n",
    "        #normalize x_next so that it sums to 1 (probability dist vector)\n",
    "        x_next /= np.linalg.norm(x_next, ord=1)\n",
    "        #calculate the relative error ||x_next - x|| / ||x||\n",
    "        rel_error = np.linalg.norm(x_next - x) / np.linalg.norm(x)\n",
    "        \n",
    "        #if flag return_iter_per_rank is true\n",
    "        if return_iter_per_rank:\n",
    "            #calculate the diffs per element\n",
    "            diffs = np.abs(x_next - x) / np.abs(x)\n",
    "            #update with the number of iteration if the diff is greater than the tolerance\n",
    "            iter_per_rank[np.where(diffs > tol)] = iter_counter\n",
    "        \n",
    "        # x <- x_next\n",
    "        x = x_next.copy()\n",
    "        iter_counter += 1\n",
    "    \n",
    "    end_time = time.time()\n",
    "    print(f'Finished in {end_time - start_time:.2f}s. Iterations: {iter_counter-1}, relative error: {rel_error}')\n",
    "    if return_iter_per_rank:\n",
    "        return x, iter_per_rank\n",
    "    else:    \n",
    "        return x.argsort()[::-1][:n]"
   ]
  },
  {
   "cell_type": "markdown",
   "metadata": {},
   "source": [
    "# The Linear System Method\n",
    "\n",
    "We need to solve for:\n",
    "\n",
    "$$\n",
    "\\begin{align*}\n",
    "    x &= \\bar{\\bar{G}}x\\\\\n",
    "    &= (t\\bar{G} + (1-t)ve^T)x \\\\\n",
    "    &= t\\bar{G}x + (1-t)ve^Tx\\\\\n",
    "    &= t\\bar{G}x + (1-t)v\\\\\n",
    "\\end{align*}\n",
    "$$\n",
    "\n",
    "since as described above $e^Tx^{k} = 1$ since $e^T=[1,1,1...1]$ n times and $x^{k}$ must sum to 1 since it is e probability distribution vector.\n",
    "\n",
    "Continuing:\n",
    "\n",
    "$$\n",
    "\\begin{align*}\n",
    "    &x = t\\bar{G}x + (1-t)v\\\\\n",
    "    &\\Rightarrow x - t\\bar{G}x = (1-t)v\\\\\n",
    "    &\\Rightarrow (I - t\\bar{G})x = (1-t)v\\\\\n",
    "\\end{align*}\n",
    "$$\n",
    "\n",
    "Subsituting with the original G matrix we obtain:\n",
    "\n",
    "$$\n",
    "\\begin{align*}\n",
    "    &\\Rightarrow (I - t\\bar{G})x = (1-t)v\\\\\n",
    "    &\\Rightarrow (I - tG - tva^T)x = (1-t)v\\\\\n",
    "\\end{align*}\n",
    "$$\n",
    "\n",
    "Since $va^T$ could be quite dense depending on the number of dangling nodes, we can proceed with the following method.\n",
    "\n",
    "$$\n",
    "\\begin{align*}\n",
    "    &\\Rightarrow (I - t\\bar{G})x = (1-t)v\\\\\n",
    "    &\\Rightarrow (I - tG)x - tva^Tx = (1-t)v\\\\\n",
    "    &\\Rightarrow (I - tG)x - tva^Tx = (1-t)v\\\\\n",
    "    &\\Rightarrow (I - tG)x = tva^Tx + (1-t)v\\\\\n",
    "\\end{align*}\n",
    "$$\n",
    "\n",
    "Using the Gauss Seidel method we can proceed further with:\n",
    "\n",
    "$$\n",
    "\\begin{align*}\n",
    "    &\\Rightarrow (I - tG)x = tva^Tx + (1-t)v\\\\\n",
    "    &\\Rightarrow DL(I - tG)x = U(I - tG) + tva^Tx + (1-t)v\\\\\n",
    "\\end{align*}\n",
    "$$\n",
    "\n",
    "where $DL(I - tG)$ is the diagonal and lower triangular matrix of $I-tG$ and $U(I - tG)$ is the relevant upper tringular matrix."
   ]
  },
  {
   "cell_type": "code",
   "execution_count": 363,
   "metadata": {},
   "outputs": [],
   "source": [
    "def gauss_seidel(G, a, t, tol=1e-8, max_iter=1000, return_iter_per_rank=False):\n",
    "    start_time = time.time()\n",
    "    \n",
    "    n = G.shape[0]\n",
    "    #initialize v as 1/number of nodes\n",
    "    v = np.ones(n) / n\n",
    "    #calculate b only once\n",
    "    b = (1-t) * v\n",
    "    \n",
    "    #gauss seidel matrices\n",
    "    A = identity(n) - t*G\n",
    "    #DL lower triangular of A including diagonal\n",
    "    DL = tril(A)\n",
    "    #U upper triangular\n",
    "    U = -triu(A, 1)\n",
    "    \n",
    "    iter_counter = 0\n",
    "    \n",
    "    #if the flag return_iter_per_rank is true initialize array\n",
    "    #which will hold the number of iterations until\n",
    "    #convergence of each element\n",
    "    if return_iter_per_rank:\n",
    "        iter_per_rank = np.zeros(n)\n",
    "    \n",
    "    #initialize the relative error and x\n",
    "    rel_error = np.finfo('double').max\n",
    "    x = np.ones(n) / n\n",
    "    \n",
    "    #start of gauss seidel iteration\n",
    "    while rel_error > tol and iter_counter <= max_iter:\n",
    "        #calculate b_hat\n",
    "        b_hat = U @ x + t*v*(a.T @ x) + b\n",
    "        #spsolve_triangular method for solving efficiently triangular systems\n",
    "        x_next = spsolve_triangular(DL, b_hat)\n",
    "        #normalize x_next to sum to 1, since probability distribution vector\n",
    "        x_next /= np.linalg.norm(x_next, ord=1)\n",
    "        #calculate the relative error\n",
    "        rel_error = np.linalg.norm(x_next - x, ord=2) / np.linalg.norm(x, ord=2)\n",
    "        \n",
    "        #if the flag return_iter_per_rank is true\n",
    "        if return_iter_per_rank:\n",
    "            #calculate the difference per element\n",
    "            diffs = np.abs(x_next - x) / np.abs(x)\n",
    "            #update with the number of iterations if not converged\n",
    "            iter_per_rank[np.where(diffs > tol)] = iter_counter\n",
    "                   \n",
    "        x = x_next.copy()\n",
    "        iter_counter += 1\n",
    "    \n",
    "    end_time = time.time()\n",
    "    print(f'Finished in {end_time - start_time:.2f}s. Iterations: {iter_counter-1}, relative error: {rel_error}')\n",
    "    if return_iter_per_rank:\n",
    "        return x, iter_per_rank\n",
    "    else:    \n",
    "        return x.argsort()[::-1][:n]"
   ]
  },
  {
   "cell_type": "markdown",
   "metadata": {},
   "source": [
    "# a) Execution Statistics for t = 0.85\n",
    "\n",
    "Power Method"
   ]
  },
  {
   "cell_type": "code",
   "execution_count": 323,
   "metadata": {},
   "outputs": [
    {
     "name": "stdout",
     "output_type": "stream",
     "text": [
      "Finished in 3.17s. Iterations: 94, relative error: 9.425222278561278e-09\n"
     ]
    },
    {
     "data": {
      "text/plain": [
       "array([ 89072, 226410, 241453, 262859, 134831, 234703, 136820,  68888,\n",
       "       105606,  69357], dtype=int64)"
      ]
     },
     "execution_count": 323,
     "metadata": {},
     "output_type": "execute_result"
    }
   ],
   "source": [
    "power_method_ranks = power_method(G, a, 0.85)\n",
    "power_method_ranks[:10]"
   ]
  },
  {
   "cell_type": "code",
   "execution_count": 362,
   "metadata": {},
   "outputs": [
    {
     "name": "stdout",
     "output_type": "stream",
     "text": [
      "Finished in 182.64s. Iterations: 48, relative error: 7.397145442617967e-09\n"
     ]
    }
   ],
   "source": [
    "gauss_seidel_ranks = gauss_seidel(G, a, 0.85)"
   ]
  },
  {
   "cell_type": "markdown",
   "metadata": {},
   "source": [
    "We can create a scatterplot with the rankings of gauss seidel and the power method.\n",
    "If there are no big deviations in the ranking, then the scatterplot should resemble the straight line $x=y$."
   ]
  },
  {
   "cell_type": "code",
   "execution_count": 247,
   "metadata": {},
   "outputs": [
    {
     "data": {
      "image/png": "[encoded data removed]",
      "text/plain": [
       "<Figure size 432x288 with 1 Axes>"
      ]
     },
     "metadata": {
      "needs_background": "light"
     },
     "output_type": "display_data"
    }
   ],
   "source": [
    "from matplotlib import pyplot as plt\n",
    "first_500 = np.where(power_method_ranks == gauss_seidel_ranks)[0][:500]\n",
    "plt.scatter(list(range(500)), first_500, marker = '.')\n",
    "plt.title('Ranks of first 500 pages')\n",
    "plt.xlabel('Power Method Rank')\n",
    "plt.ylabel('Gauss Seidel Rank')\n",
    "plt.show()"
   ]
  },
  {
   "cell_type": "markdown",
   "metadata": {},
   "source": [
    "Observations:\n",
    "* We can see that there are no big deviations between the ranking produces by the Power method and the Gauss Seidel method, at least for the first 500 webpages.\n",
    "* The power method finished in 3 seconds with 94 iterations. \n",
    "* The Gauss Seidel method made less iterations but the execution time was very large, above 100s."
   ]
  },
  {
   "cell_type": "markdown",
   "metadata": {},
   "source": [
    "# b) Execution Statistics for t = 0.99"
   ]
  },
  {
   "cell_type": "code",
   "execution_count": 272,
   "metadata": {},
   "outputs": [
    {
     "name": "stdout",
     "output_type": "stream",
     "text": [
      "Finished in 55.20s. Iterations: 1511, relative error: 9.942196858011447e-09\n"
     ]
    }
   ],
   "source": [
    "power_method_ranks_99 = power_method(G, a, 0.99, max_iter=1e6)"
   ]
  },
  {
   "cell_type": "code",
   "execution_count": 263,
   "metadata": {},
   "outputs": [
    {
     "name": "stdout",
     "output_type": "stream",
     "text": [
      "Finished in 1430.06s. Iterations: 678, relative error: 9.89050790801261e-09\n"
     ]
    }
   ],
   "source": [
    "gauss_seidel_ranks_99 = gauss_seidel(G, a, 0.99, max_iter=1e6)"
   ]
  },
  {
   "cell_type": "markdown",
   "metadata": {},
   "source": [
    "#### Power method comparison t=0.85 vs t=0.99"
   ]
  },
  {
   "cell_type": "code",
   "execution_count": 279,
   "metadata": {},
   "outputs": [
    {
     "name": "stdout",
     "output_type": "stream",
     "text": [
      "Common nodes in first 50: 25 from which 1 had the same rank\n"
     ]
    }
   ],
   "source": [
    "#how many web pages had the same rank in the first 50\n",
    "same_rank = sum(power_method_ranks_99[:50] == power_method_ranks[:50])\n",
    "#how many web pages exist in the first 50, irrespective of ranking\n",
    "in_first_50 = sum(np.isin(power_method_ranks_99[:50], power_method_ranks[:50]))\n",
    "print(f'Common nodes in first 50: {in_first_50} from which {same_rank} had the same rank')"
   ]
  },
  {
   "cell_type": "markdown",
   "metadata": {},
   "source": [
    "#### Gauss Seidel method comparison t=0.85 vs t=0.99"
   ]
  },
  {
   "cell_type": "code",
   "execution_count": 280,
   "metadata": {},
   "outputs": [
    {
     "name": "stdout",
     "output_type": "stream",
     "text": [
      "Common nodes in first 50: 25 from which 1 had the same rank\n"
     ]
    }
   ],
   "source": [
    "#how many web pages had the same rank in the first 50\n",
    "same_rank = sum(gauss_seidel_ranks_99[:50] == gauss_seidel_ranks[:50])\n",
    "#how many web pages exist in the first 50, irrespective of ranking\n",
    "in_first_50 = sum(np.isin(gauss_seidel_ranks_99[:50], gauss_seidel_ranks[:50]))\n",
    "print(f'Common nodes in first 50: {in_first_50} from which {same_rank} had the same rank')"
   ]
  },
  {
   "cell_type": "markdown",
   "metadata": {},
   "source": [
    "In both cases we observed that when using 0.01 transition probability, only 25 nodes were included in the set of pages produced from which the transition probability was 0.15. Additionally, only 1 page had the same ranking between the two trials (probability of transition=0.01 and probability of transition = 0.15)"
   ]
  },
  {
   "cell_type": "markdown",
   "metadata": {},
   "source": [
    "# c) Convergence\n",
    "\n",
    "#### Power Method"
   ]
  },
  {
   "cell_type": "code",
   "execution_count": 368,
   "metadata": {},
   "outputs": [
    {
     "name": "stdout",
     "output_type": "stream",
     "text": [
      "Finished in 6.72s. Iterations: 165, relative error: 8.797584505010734e-14\n"
     ]
    }
   ],
   "source": [
    "#call power_method with return_iter_per_rank=True\n",
    "pm_probs, pm_iterations = power_method(G, a, 0.85, return_iter_per_rank=True, tol=1e-13)"
   ]
  },
  {
   "cell_type": "code",
   "execution_count": 376,
   "metadata": {},
   "outputs": [],
   "source": [
    "#create a dataframe with the results\n",
    "pm_res = pd.DataFrame({'probs':pm_probs, 'iterations':pm_iterations})\n",
    "#sort by the probability of visit descending\n",
    "pm_res.sort_values(by='probs', ascending=False, inplace=True)\n",
    "#create 100 quantiles based on the indexes (since sorted)\n",
    "pm_res['order_bucket'] = pd.qcut(pm_res.index,100,labels=range(1,101))\n",
    "#for each bucket find the average number of iterations for convergence\n",
    "pm_agg = pm_res.groupby('order_bucket').iterations.mean().reset_index()"
   ]
  },
  {
   "cell_type": "code",
   "execution_count": 377,
   "metadata": {},
   "outputs": [
    {
     "data": {
      "image/png": "[encoded data removed]",
      "text/plain": [
       "<Figure size 432x288 with 1 Axes>"
      ]
     },
     "metadata": {
      "needs_background": "light"
     },
     "output_type": "display_data"
    }
   ],
   "source": [
    "plt.plot(pm_agg.order_bucket, pm_agg.iterations)\n",
    "plt.xlabel('Ranking Bucket of Nodes')\n",
    "plt.ylabel('Number of Iteration to converge')\n",
    "plt.suptitle('Power Method')\n",
    "plt.title('Avg Number of Iterations for Element Wise Convergence')\n",
    "plt.show()"
   ]
  },
  {
   "cell_type": "markdown",
   "metadata": {},
   "source": [
    "Linear System Method"
   ]
  },
  {
   "cell_type": "code",
   "execution_count": 371,
   "metadata": {},
   "outputs": [
    {
     "name": "stderr",
     "output_type": "stream",
     "text": [
      "C:\\Users\\ikats\\anaconda3\\lib\\site-packages\\scipy\\sparse\\linalg\\dsolve\\linsolve.py:552: SparseEfficiencyWarning: CSR matrix format is required. Converting to CSR matrix.\n",
      "  warn('CSR matrix format is required. Converting to CSR matrix.',\n"
     ]
    },
    {
     "name": "stdout",
     "output_type": "stream",
     "text": [
      "Finished in 103.48s. Iterations: 48, relative error: 7.397145442617967e-09\n"
     ]
    }
   ],
   "source": [
    "gs_probs, gs_iterations = gauss_seidel(G, a, 0.85, return_iter_per_rank=True)"
   ]
  },
  {
   "cell_type": "code",
   "execution_count": 372,
   "metadata": {},
   "outputs": [],
   "source": [
    "#create a dataframe with the results\n",
    "gs_res = pd.DataFrame({'probs':gs_probs, 'iterations':gs_iterations})\n",
    "#sort by the probability of visit descending\n",
    "gs_res.sort_values(by='probs', ascending=False, inplace=True)\n",
    "#create 100 quantiles based on the indexes (since sorted)\n",
    "gs_res['order_bucket'] = pd.qcut(gs_res.index,100,labels=range(1,101))\n",
    "#for each bucket find the average number of iterations for convergence\n",
    "agg = gs_res.groupby('order_bucket').iterations.mean().reset_index()"
   ]
  },
  {
   "cell_type": "code",
   "execution_count": 375,
   "metadata": {},
   "outputs": [
    {
     "data": {
      "image/png": "[encoded data removed]",
      "text/plain": [
       "<Figure size 432x288 with 1 Axes>"
      ]
     },
     "metadata": {
      "needs_background": "light"
     },
     "output_type": "display_data"
    }
   ],
   "source": [
    "plt.plot(agg.order_bucket, agg.iterations)\n",
    "plt.xlabel('Ranking Bucket of Nodes')\n",
    "plt.ylabel('Number of Iteration to converge')\n",
    "plt.suptitle('Gauss Seidel')\n",
    "plt.title('Avg Number of Iterations for Element Wise Convergence')\n",
    "plt.show()"
   ]
  },
  {
   "cell_type": "markdown",
   "metadata": {},
   "source": [
    "We can observe that in the `power method`, the avg number of iterations per ranking bucket does not show any particular pattern. As a result, there is no clear distinction as to whether important nodes converge faster or slower than non important ones. On the contrary, in the gauss-seidel method, we can observe that more important nodes have on average higher numbers of iterations in order to converge element-wise to their limits. "
   ]
  },
  {
   "cell_type": "markdown",
   "metadata": {},
   "source": [
    "# Theoretical questions\n",
    "\n",
    "The following questions are answered based on the methodology provide in \n",
    "https://snap.stanford.edu/class/cs246-2013/slides/09-pagerank.pdf\n",
    "\n",
    "### a) Adding a page `x` with no in/out connections\n",
    "\n",
    "Having the adjacency metric formatted such that the rows indicate inward links where the columns indicate outward links we can define the rank of an element j as:\n",
    "\n",
    "$$r_j = \\sum_{i\\rightarrow j} \\beta \\frac{r_i}{d_i} + \\frac{1-b}{n}$$\n",
    "\n",
    "where $d_i$ is the outward degree of node $A_{ij}$ and $\\beta$ the probability to continue browsing using the links instead of transitioning randomly to a web page.\n",
    "\n",
    "Adding one more web page `x` we have the following:\n",
    "\n",
    "$$r_x = \\sum_{i\\rightarrow j} \\beta \\frac{r_i}{d_i} + \\frac{1-b}{n+1}$$\n",
    "\n",
    "But since the page `x` does not have inwards or outwards links, there is only one elemnt in the respective diagonal element of the adjacency matrix. Thus we obtain:\n",
    "\n",
    "$$r_x = \\beta r_x + \\frac{1-b}{n+1} \\Rightarrow  r_x (1-\\beta) = \\frac{1-b}{n+1} \\Rightarrow r_x = \\frac{1}{n+1}$$\n",
    "\n",
    "For the rest of the pages the ranking changes slightly, since the transitioning matrix changes from $\\frac{1}{n}$ to $\\frac{1}{n+1}$ which has minimum impact since n is very large."
   ]
  },
  {
   "cell_type": "markdown",
   "metadata": {},
   "source": [
    "### b) Adding a page `y` which links to `x`\n",
    "\n",
    "We have:\n",
    "\n",
    "$$r_x = \\sum_{i\\rightarrow j} \\beta \\frac{r_i}{d_i} + \\frac{1-b}{n+2} = \\beta r_x + \\beta \\frac{r_y}{2} + \\frac{1-\\beta}{n+2}$$ (since y is pointing to itself as well as `x` it has a degree if 2)\n",
    "\n",
    "Similarly to `a)` $r_y = \\frac{1}{n+2}$ so $r_x$ becomes:\n",
    "$$r_x = \\beta r_x + \\frac{\\beta}{2(n+2)} + \\frac{1-\\beta}{n+2}$$\n",
    "\n",
    "Solving for $r_x$ we obtain:\n",
    "\n",
    "$$r_x = \\frac{2-\\beta}{2(n+2)(1-\\beta)}$$\n",
    "\n",
    "which is higher than $r_x$ without the presence of `y` pointing to it."
   ]
  },
  {
   "cell_type": "code",
   "execution_count": 27,
   "metadata": {},
   "outputs": [
    {
     "name": "stdout",
     "output_type": "stream",
     "text": [
      "r_x without the presence of y = 0.009900990099009901 in a graph 100x100 and beta=0.85\n",
      "r_x with the presence of y = 0.03758169934640522 in a graph 100x100 and beta=0.85\n"
     ]
    }
   ],
   "source": [
    "beta = 0.85\n",
    "n = 100\n",
    "\n",
    "r_x_a = 1/(n+1)\n",
    "r_x_y = (2-beta) / (2*(n+2)*(1-beta))\n",
    "print(f'r_x without the presence of y = {r_x_a} in a graph {n}x{n} and beta={beta}')\n",
    "print(f'r_x with the presence of y = {r_x_y} in a graph {n}x{n} and beta={beta}')"
   ]
  },
  {
   "cell_type": "markdown",
   "metadata": {},
   "source": [
    "### c) Adding another page `z`\n",
    "In order to maximize the rank of the page `x` we have to adjust both `y` and `z` to point to `x`.\n",
    "Additionally `y` and `z` shoulf point to each other as well as `x` should point to them."
   ]
  },
  {
   "cell_type": "markdown",
   "metadata": {},
   "source": [
    "### d) adding outgoing links from x\n",
    "\n",
    "Based on the ranking formula, what matters is the inwards links from older pages to `x`. The number of outgoing pages from `x` will not have an effect on the page ranking of `x` itself. On the contrary, it will increase slightly the ranking of the older pages since they have one more incoming link. \n",
    "\n",
    "If we add links from `z` or `y` to older pages, the ranking of `x` will decrease. This is because all outwards links of a node must sum to `1`. So if before `y` was pointing only to `x`, `x` received an incoming link of weight `1/2` (since `y` is pointing to itself as well). If `y` has more outwards links, the weight if the connection to `x` will drop, eventually decreasing the ranking of `y`."
   ]
  },
  {
   "cell_type": "markdown",
   "metadata": {},
   "source": [
    "### e) Increasing the page rank of `x`\n",
    "\n",
    "Based on the logic of the pagerank algorithm, in order to increase the rank of the page `x`, it must receive incoming connections from nodes which:\n",
    "\n",
    "* receive many connections themselves, so that their ranking is high\n",
    "* do not have many outwards connections, so that their degree is small. In other words, the lesser the outward links of a webpage, the higher the importance of the connection."
   ]
  }
 ],
 "metadata": {
  "kernelspec": {
   "display_name": "Python 3",
   "language": "python",
   "name": "python3"
  },
  "language_info": {
   "codemirror_mode": {
    "name": "ipython",
    "version": 3
   },
   "file_extension": ".py",
   "mimetype": "text/x-python",
   "name": "python",
   "nbconvert_exporter": "python",
   "pygments_lexer": "ipython3",
   "version": "3.8.5"
  }
 },
 "nbformat": 4,
 "nbformat_minor": 4
}
