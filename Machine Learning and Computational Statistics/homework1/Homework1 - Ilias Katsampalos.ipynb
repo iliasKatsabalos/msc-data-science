{
 "cells": [
  {
   "cell_type": "markdown",
   "metadata": {},
   "source": [
    "## Homework 1 - Machine Learning and computational statistic\n",
    "#### Ilias Katsampalos"
   ]
  },
  {
   "cell_type": "markdown",
   "metadata": {},
   "source": [
    "1) **Parametric example**: Assign an entity to a class based on the minimum distance from the mean of each class' distribution  \n",
    "   **Non Parametric example**: Assign an entity to a class, after calculating the shortest distance to all other entities                            and choosing the class of the shortest neighbor"
   ]
  },
  {
   "cell_type": "markdown",
   "metadata": {},
   "source": [
    "2a) Parametric set of **quadratic** functions where $f_θ: x \\epsilon R \\rightarrow y \\epsilon R$  \n",
    "$X:[x_1]$  \n",
    "$f_θ(x) = θ_0x_1^2 + θ_1x_1 + θ_2$\n",
    "$Θ: [θ_0, θ_1, θ_2]$ and $Θ \\epsilon  R^3$\n",
    "\n",
    "*Instance 1*: $f_θ(x) =  x_1^2 + x_1 + 3$  \n",
    "*Instance 2*: $f_θ(x) = 3x_1^2 + 4x_1 + 9$"
   ]
  },
  {
   "cell_type": "markdown",
   "metadata": {},
   "source": [
    "2b) Parametric set of **3rd degree polynomials** where $f_θ: x \\epsilon R^2 \\rightarrow y \\epsilon R$  \n",
    "$X:[x_1, x_2]$  \n",
    "$f_θ(x) = θ_0x_1^3 + θ_1x_2^3 + θ_2x_1^2x_2 + θ_3x_1x_2^2 + θ_4x_1^2 + θ_5x_2^2 + θ_6x_1x_2 + θ_7x_1 + θ_8x_2 + θ_9 $  \n",
    "$Θ: [θ_0, θ_1, θ_2, θ_3, θ_4, θ_5, θ_6, θ_7, θ_8, θ_9]$ and $Θ  \\epsilon  R^{10} $\n",
    "\n",
    "*Instance 1*: $ f_θ(x) =  x_1^3 + x_2^3 + 2x_1^2x_2 + 2x_1x_2^2 + 3x_1^2 + 3x_2^2 $  \n",
    "*Instance 2*: $ f_θ(x) = 2x_1^3 + 2x_2^3 + 3x_1^2x_2 + 3x_1x_2^2 + 3x_1^2 + 4x_2^2 + 4x_1x_2 + 5x_1 + 5x_2 + 6 $"
   ]
  },
  {
   "cell_type": "markdown",
   "metadata": {},
   "source": [
    "2c) Parametric set of **3rd degree polynomials** where $f_θ: x \\epsilon R^3 \\rightarrow y \\epsilon R$  \n",
    "$X:[x_1, x_2, x_3]$  \n",
    "$f_θ(x) = θ_0x_1^3 + θ_1x_2^3 + θ_2x_3^3 + θ_3x_1^2x_2 + θ_4x_1^2x_3 + θ_5x_2^2x_1 + θ_6x_2^2x_3 + θ_7x_3^2x_1 + θ_8x_3^2x_2 + θ_9x_1x_2x_3 + θ_{10}x_1^2 + θ_{11}x_2^2 + θ_{12}x_3^2 + θ_{13}x_1x_2 + θ_{14}x_1x_3 + θ_{15}x_2x_3 + θ_{16}x_1 + θ_{17}x_2 + θ_{18}x_3 +  θ_{19}$   \n",
    "\n",
    "$Θ: [θ_0, θ_1, θ_2, θ_3, θ_4, θ_5, θ_6, θ_7, θ_8, θ_9, θ_{10}, θ_{11}, θ_{12}, θ_{13}, θ_{14}, θ_{15}, θ_{16}, θ_{17}, θ_{18}, θ_{19}]$ and $Θ  \\epsilon  R^{20} $\n",
    "\n",
    "*Instance 1*: $f_θ(x) = x_1^3 + x_2^3 + x_3^3 + x_1^2x_2 + x_1^2x_3 + x_2^2x_1 + x_2^2x_3 + x_3^2x_1 + x_3^2x_2 + x_1x_2x_3 $  \n",
    "*Instance 2*: $f_θ(x) = 5x_1^3 + 4x_2^3 + 3x_3^3 + 3x_1^2x_2 + 3x_1^2x_3 + 2x_2^2x_1 + 2x_2^2x_3 + 2x_3^2x_1 + 10x_1x_2x_3 + 12x_1^2 + 9x_2^2 + 4x_3^2 + 2x1_x2 + 4x_2 + 8x_3 + 20$   "
   ]
  },
  {
   "cell_type": "markdown",
   "metadata": {},
   "source": [
    "2d) Parametric set of functions where $ f_θ: x \\epsilon R^5 \\rightarrow y \\epsilon R, f_θ(x) = \\frac{1}{1 + exp(-Θ^TΧ)}$  \n",
    "$X:[x_1, x_2, x_3, x_4, x_5]$  \n",
    "$f_θ(x) = \\frac{1}{1 + exp(- θ_1x_1 - θ_2x_2 - θ_3x_3 - θ_4x_4 - θ_5x_5)}$   \n",
    "\n",
    "$Θ: [θ_1, θ_2, θ_3, θ_4, θ_5]$ and $Θ  \\epsilon  R^{5} $\n",
    "\n",
    "*Instance 1*: $f_θ(x) = \\frac{1}{1 + exp(- x_1 - x_2 - x_3 - x_4 - x_5)}$   \n",
    "*Instance 2*: $f_θ(x) = \\frac{1}{1 + exp(- 2x_1 - 3x_2 - 4x_3 - 5x_4 - 6x_5)}$   "
   ]
  },
  {
   "cell_type": "markdown",
   "metadata": {},
   "source": [
    "2e) $f_θ$ is linear with respect to $θ$ for cases a,b,c,d"
   ]
  },
  {
   "cell_type": "markdown",
   "metadata": {},
   "source": [
    "3) From the first part of the equation **$(θ^Τx)x$** we have \n",
    "$$\n",
    "\\sum_{i=1}^{l}θ_ix_i \n",
    "\\left[\\begin{array}{cc} \n",
    "x_1\\\\\n",
    "x_2\\\\\n",
    ".\\\\\n",
    ".\\\\\n",
    ".\\\\\n",
    "x_l\n",
    "\\end{array}\\right] = \n",
    "\\left[\\begin{array}{cc} \n",
    "\\sum_{i=1}^{l}θ_ix_ix_1\\\\\n",
    "\\sum_{i=1}^{l}θ_ix_ix_2\\\\\n",
    ".\\\\\n",
    ".\\\\\n",
    ".\\\\\n",
    "\\sum_{i=1}^{l}θ_ix_ix_l\n",
    "\\end{array}\\right]\n",
    "$$ \n",
    "\n",
    "From the second part of the equation **$(xx^T)θ$** we have\n",
    "$$\n",
    "\\left[\\begin{array}{cc} \n",
    "x_1^2 & x_1x_2 & . & . & x_1x_l\\\\\n",
    "x_2x_1 & . & & & \\\\\n",
    ". & & . & & &\\\\\n",
    ". & & & . & &\\\\\n",
    ". & &  & & . &\\\\\n",
    "x_lx_1 & & & & x_l^2\n",
    "\\end{array}\\right] \n",
    "\\left[\\begin{array}{cc} \n",
    "θ_1\\\\\n",
    "θ_2\\\\\n",
    ".\\\\\n",
    ".\\\\\n",
    ".\\\\\n",
    "θ_l\n",
    "\\end{array}\\right]\n",
    "= \\left[\\begin{array}{cc} \n",
    "\\sum_{i=1}^{l}θ_ix_ix_1\\\\\n",
    "\\sum_{i=1}^{l}θ_ix_ix_2\\\\\n",
    ".\\\\\n",
    ".\\\\\n",
    ".\\\\\n",
    "\\sum_{i=1}^{l}θ_ix_ix_l\n",
    "\\end{array}\\right]\n",
    "$$\n",
    "\n",
    "which is the same result we got from the first part of the equation"
   ]
  },
  {
   "cell_type": "markdown",
   "metadata": {},
   "source": [
    "4) we have $ X^TX = \n",
    "\\left[\\begin{array}{cc} \n",
    "\\boldsymbol{x_1} & \\boldsymbol{x_2} & ... & \\boldsymbol{x_n}\n",
    "\\end{array}\\right] \n",
    "\\left[\\begin{array}{cc} \n",
    "\\boldsymbol{x_1^T} \\\\\n",
    "\\boldsymbol{x_2^T} \\\\\n",
    "\\boldsymbol{x_n^T}\n",
    "\\end{array}\\right] = \\sum_{n=1}^{N}\\boldsymbol{x_nx_n^T}\n",
    "$\n",
    "\n",
    "we have $ X^T\\boldsymbol{y} = \n",
    "\\left[\\begin{array}{cc} \n",
    "\\boldsymbol{x_1} & \\boldsymbol{x_2} & ... & \\boldsymbol{x_n}\n",
    "\\end{array}\\right] \n",
    "\\left[\\begin{array}{cc} \n",
    "\\boldsymbol{y_1} \\\\\n",
    "\\boldsymbol{y_2} \\\\\n",
    "\\boldsymbol{y_n}\n",
    "\\end{array}\\right] = \\sum_{n=1}^{N}\\boldsymbol{x_ny_n}\n",
    "$"
   ]
  },
  {
   "cell_type": "markdown",
   "metadata": {},
   "source": [
    "5) The target is the minimaze the cost function $ J(θ) = ||Χ\\boldsymbol{θ} - \\boldsymbol{y}||^2 $  \n",
    "We take the gradient $ \\nabla J(θ) = 2X^T(X\\boldsymbol{θ} - \\boldsymbol{y}) $  \n",
    "Setting the $ \\nabla J(θ) = 0 $ we have $ X^T(X\\boldsymbol{θ} - \\boldsymbol{y}) = 0 $  \n",
    "$ \\Rightarrow  X^TX\\boldsymbol{θ} = Χ^Τ\\boldsymbol{y} \\Rightarrow \\boldsymbol{θ} = (X^TX)^{-1}Χ^Τ\\boldsymbol{y}$\n"
   ]
  },
  {
   "cell_type": "code",
   "execution_count": 35,
   "metadata": {
    "scrolled": true
   },
   "outputs": [
    {
     "data": {
      "image/png": "[encoded data removed]",
      "text/plain": [
       "<Figure size 432x288 with 1 Axes>"
      ]
     },
     "metadata": {
      "needs_background": "light"
     },
     "output_type": "display_data"
    }
   ],
   "source": [
    "import numpy as np\n",
    "from matplotlib import pyplot as plt\n",
    "# construct a dataset for x (time) and y (velocity)\n",
    "x = np.array([1,2,3,4,5])\n",
    "y = np.array([5.1, 6.8, 9.2, 10.9, 13.1])\n",
    "plt.scatter(x,y)\n",
    "plt.xlabel('Time')\n",
    "plt.ylabel('Velocity')\n",
    "plt.show()"
   ]
  },
  {
   "cell_type": "code",
   "execution_count": 36,
   "metadata": {},
   "outputs": [
    {
     "name": "stdout",
     "output_type": "stream",
     "text": [
      "6a) initial velocity = 2.990000000000008, acceleration = 2.0100000000000016\n"
     ]
    }
   ],
   "source": [
    "#since we will work with matrix operations, we add a column of 1s on the X dataset\n",
    "X = np.column_stack([np.ones(len(x)), x])\n",
    "\n",
    "#we calculate the thetas analytically, based on the formula in exercise 5 \n",
    "thetas = np.linalg.inv(X.T @ X) @ X.T @ y\n",
    "print('6a) initial velocity = {}, acceleration = {}'.format(thetas[0], thetas[1]))"
   ]
  },
  {
   "cell_type": "code",
   "execution_count": 37,
   "metadata": {},
   "outputs": [],
   "source": [
    "#we build an artificial dataset for plotting the line \n",
    "X_line = np.linspace(0,5)\n",
    "X_line = np.column_stack([np.ones(len(X_line)), X_line])\n",
    "#we calculate the line y_hat\n",
    "y_hat = X_line @ thetas"
   ]
  },
  {
   "cell_type": "code",
   "execution_count": 38,
   "metadata": {},
   "outputs": [
    {
     "data": {
      "text/plain": [
       "<matplotlib.legend.Legend at 0x1e2ea23bac0>"
      ]
     },
     "execution_count": 38,
     "metadata": {},
     "output_type": "execute_result"
    },
    {
     "data": {
      "image/png": "[encoded data removed]",
      "text/plain": [
       "<Figure size 432x288 with 1 Axes>"
      ]
     },
     "metadata": {
      "needs_background": "light"
     },
     "output_type": "display_data"
    }
   ],
   "source": [
    "plt.scatter(x,y, label='data points')\n",
    "plt.plot(X_line[:,1], y_hat, color = 'orange', label = 'Least Squares Line')\n",
    "plt.xlabel('Time')\n",
    "plt.ylabel('Velocity')\n",
    "plt.legend()"
   ]
  },
  {
   "cell_type": "code",
   "execution_count": 39,
   "metadata": {},
   "outputs": [
    {
     "name": "stdout",
     "output_type": "stream",
     "text": [
      "6b) the speed at t=2.3 is 7.613000000000011\n"
     ]
    }
   ],
   "source": [
    "_6b = thetas @ [1,2.3]\n",
    "print('6b) the speed at t=2.3 is {}'.format(_6b))"
   ]
  }
 ],
 "metadata": {
  "kernelspec": {
   "display_name": "Python 3",
   "language": "python",
   "name": "python3"
  },
  "language_info": {
   "codemirror_mode": {
    "name": "ipython",
    "version": 3
   },
   "file_extension": ".py",
   "mimetype": "text/x-python",
   "name": "python",
   "nbconvert_exporter": "python",
   "pygments_lexer": "ipython3",
   "version": "3.8.3"
  }
 },
 "nbformat": 4,
 "nbformat_minor": 2
}
