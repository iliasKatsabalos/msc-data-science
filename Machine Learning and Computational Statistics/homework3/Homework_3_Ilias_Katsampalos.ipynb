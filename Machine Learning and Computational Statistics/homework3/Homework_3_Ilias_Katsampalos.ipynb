{
 "cells": [
  {
   "cell_type": "markdown",
   "metadata": {},
   "source": [
    "# Homework 2 - Machine Learning and Computational Statistics\n",
    "### Ilias Katsampalos"
   ]
  },
  {
   "cell_type": "markdown",
   "metadata": {},
   "source": [
    "### Ex1\n",
    "$R_x = cov(x) + \\boldsymbol{μμ^Τ}$  \n",
    "we have  \n",
    "$cov(x) + \\boldsymbol{μμ^Τ} = E[(\\boldsymbol{x}-\\boldsymbol{μ})(\\boldsymbol{x}-\\boldsymbol{μ})^T] + \\boldsymbol{μμ^Τ} = E[(\\boldsymbol{x}-\\boldsymbol{μ})(\\boldsymbol{x^Τ}-\\boldsymbol{μ^Τ})] + \\boldsymbol{μμ^Τ} \n",
    "= E[\\boldsymbol{xx^T}-\\boldsymbol{xμ^T} - \\boldsymbol{μx^Τ}+\\boldsymbol{μμ^Τ}] + \\boldsymbol{μμ^Τ} = $  \n",
    "$= E[\\boldsymbol{xx^T}] - Ε[\\boldsymbol{xμ^T}] - Ε[\\boldsymbol{μx^Τ}] + Ε[\\boldsymbol{μμ^Τ}] + \\boldsymbol{μμ^Τ}\n",
    "= E[\\boldsymbol{xx^T}] - Ε[\\boldsymbol{x}]\\boldsymbol{μ^Τ} - \\boldsymbol{μ}E[\\boldsymbol{x^Τ}] + \\boldsymbol{μμ^Τ} + \\boldsymbol{μμ^Τ} = E[\\boldsymbol{xx^T}] = R_x$"
   ]
  },
  {
   "cell_type": "markdown",
   "metadata": {},
   "source": [
    "### Ex2\n",
    "* **Bernouli Mean:** $E(x) = \\sum_{j}x_jp(x_j) = 0(1-p)+p = p$  \n",
    "* **Bernouli Variance:** $σ_x^2 = \\sum_{j}(x_j - E[x_j])^2p(x_j) = (0-p)^2(1-p) + (1-p)^2p = p^2(1-p) +  (1-p)^2p = $  \n",
    "$= p^2 - p^3 + p - 2p^2 + p^3 = p-p^2 = p(1-p)$\n",
    "* **Binomial mean:** $E(x) = \\sum_{x\\inΩ_x}xp(x) = \\sum_{x=0}^{n}x{n \\choose x}p^x(1-p)^{n-x} = \n",
    "\\sum_{x=0}^{n}{n \\choose x-1}p^x(1-p)^{n-x} = \\sum_{x=0}^{n}np{n-1 \\choose x-1}p^{x-1}(1-p)^{n-x} = $  \n",
    "$= np\\sum_{x=0}^{n}{n-1 \\choose x-1}p^{x-1}(1-p)^{n-x}$ and setting m = n-1, k = x-1  \n",
    "$= np\\sum_{k=0}^{m}{m \\choose k}p^{k}(1-p)^{k-m} = np(p+1-p)^m = np$"
   ]
  },
  {
   "cell_type": "markdown",
   "metadata": {},
   "source": [
    "### Ex3\n",
    "$p(x) = \\frac{1}{(2π)^{l/2}|Σ|^{1/2}} exp(-\\frac{(x-μ)^TΣ^{-1}(x-μ)}{2})\n",
    "=\\frac{1}{(2π)^{l/2}|Σ|^{1/2}} exp\\bigg(-\\frac{1}{2}\n",
    "\\begin{bmatrix}\n",
    "    (x_1-μ_1)&(x_2-μ_2)&...&(x_l-μ_l)\n",
    "\\end{bmatrix}\n",
    "\\begin{bmatrix}\n",
    "    σ_{11}^{-2} & 0 & 0\\\\\n",
    "    0 & \\ddots & \\\\\n",
    "    0 &  & σ_{ll}^{-2}\n",
    "\\end{bmatrix}\n",
    "\\begin{bmatrix}\n",
    "    (x_1-μ_1) \\\\\n",
    "    (x_2-μ_2) \\\\\n",
    "    \\vdots \\\\\n",
    "    (x_l-μ_l)\n",
    "\\end{bmatrix}\\bigg)\n",
    "=\\frac{1}{(2π)^{l/2}|Σ|^{1/2}} exp(-\\frac{1}{2}[(x_1-μ_1)^2σ_{11}^{-2} + (x_2-μ_2)^2σ_{2}^{-2} + ... + (x_l-μ_l)^2σ_{ll}^{-2}]) = $  \n",
    "$= \n",
    "\\frac{1}{(2π)^{l/2}\\prod_{i=1}^{l}σ_i}exp(-\\frac{(x_1-μ_1)^2}{2σ_{11}^2}\n",
    "-\\frac{(x_2-μ_2)^2}{2σ_{22}^2}\n",
    "-\\frac{(x_l-μ_l)^2}{2σ_{ll}^2}) = \n",
    "\\prod_{i=1}^{l}\\frac{1}{\\sqrt{2π}σ_i}exp(-\\frac{(x_i-μ_i)^2}{2σ_i^2})\n",
    "$"
   ]
  },
  {
   "cell_type": "markdown",
   "metadata": {},
   "source": [
    "### Ex4\n",
    "$J(θ) = \\sum_{i=1}^{n}(θx_i - y_i)^2$  \n",
    "$\\frac{dJ(θ)}{dθ} = 2\\sum_{i=1}^{n}(θx_i - y_i)x_i = 0 \\Rightarrow \\sum_{i=1}^{n}θx_i^2 - y_ix_i = 0 \\Rightarrow\n",
    "θ = \\frac{\\sum_{i=1}^{n}y_ix_i}{\\sum_{i=1}^{n}x_i^2}\n",
    "$"
   ]
  },
  {
   "cell_type": "markdown",
   "metadata": {},
   "source": [
    "### Ex5"
   ]
  },
  {
   "cell_type": "code",
   "execution_count": 41,
   "metadata": {},
   "outputs": [],
   "source": [
    "import numpy as np\n",
    "import seaborn as sns\n",
    "from matplotlib import pyplot as plt\n",
    "\n",
    "#a) instead of a loop we will implement this in a vectorized fashion\n",
    "np.random.seed(123)\n",
    "#dimensions: 50 datasets with 30 rows each\n",
    "n=30\n",
    "d=50\n",
    "\n",
    "#X is a matrix where each column is a dataset. The shape is (30,50)\n",
    "X = np.random.uniform(50,100,(n,d))\n",
    "\n",
    "#generate noise for each dataset, with 0 means, 64 variance and 30 rows. The shape is (30,50)\n",
    "noise = np.random.multivariate_normal(np.zeros(50),np.identity(50)*64,30)\n",
    "\n",
    "#scalar multiplication with theta=2 and add the noise. The shape is the same so no issues should arise\n",
    "y = X * 2 + noise"
   ]
  },
  {
   "cell_type": "code",
   "execution_count": 42,
   "metadata": {},
   "outputs": [
    {
     "data": {
      "text/plain": [
       "array([2.00484604, 2.02069017, 2.01496419, 2.01881608, 1.99798319,\n",
       "       1.9993382 , 1.98850054, 2.01052471, 2.00033709, 2.00900794,\n",
       "       1.99101986, 2.01018817, 1.99465841, 2.02448586, 1.99027242,\n",
       "       2.01996748, 1.99547394, 1.9702183 , 2.03082518, 1.97737788,\n",
       "       1.98862297, 1.99102609, 2.00269802, 1.96463306, 2.02044858,\n",
       "       2.01819826, 1.9933806 , 1.98811222, 1.99128188, 2.0325274 ,\n",
       "       2.0057673 , 2.00457314, 2.0009138 , 2.01988791, 2.01355743,\n",
       "       1.99547892, 1.97825136, 2.02682088, 2.05746472, 1.98969355,\n",
       "       2.00484434, 1.98490816, 1.97640402, 2.00635041, 1.98278824,\n",
       "       2.00473082, 1.98971983, 2.00185306, 2.00739853, 2.00926102])"
      ]
     },
     "execution_count": 42,
     "metadata": {},
     "output_type": "execute_result"
    }
   ],
   "source": [
    "#b) we calculate the thetas based on our proof in exercise 4\n",
    "thetas = np.multiply(X,y).sum(axis=0) / np.multiply(X,X).sum(axis=0)\n",
    "thetas"
   ]
  },
  {
   "cell_type": "code",
   "execution_count": 43,
   "metadata": {},
   "outputs": [
    {
     "name": "stdout",
     "output_type": "stream",
     "text": [
      "MSE of the estimator is 0.0003048450645330764\n"
     ]
    }
   ],
   "source": [
    "#c) calculate the mse of the estimator\n",
    "MSE = np.sum((thetas-2)**2) / len(thetas)\n",
    "print('MSE of the estimator is {}'.format(MSE))"
   ]
  },
  {
   "cell_type": "code",
   "execution_count": 61,
   "metadata": {},
   "outputs": [
    {
     "data": {
      "image/png": "[encoded data removed]",
      "text/plain": [
       "<Figure size 432x288 with 1 Axes>"
      ]
     },
     "metadata": {
      "needs_background": "light"
     },
     "output_type": "display_data"
    },
    {
     "name": "stdout",
     "output_type": "stream",
     "text": [
      "The estimates of each dataset are scattered around the θ0=2 line\n",
      "There are deviations attributed to the noise η that we added to the model which generated the data\n"
     ]
    }
   ],
   "source": [
    "#plot the estimates of theta and how they spread around the theta0 estimator\n",
    "plt.scatter(np.arange(0,50), thetas, label = 'estimates $\\hat{θ}$')\n",
    "plt.plot(np.arange(0,50), np.ones(50)*2, label = '$θ_0$', color = 'black')\n",
    "plt.legend()\n",
    "plt.xlabel('dataset index')\n",
    "plt.ylabel('θ')\n",
    "plt.title('estimations scattered around the line $θ_0=2$')\n",
    "plt.show()\n",
    "print('The estimates of each dataset are scattered around the θ0=2 line')\n",
    "print('There are deviations attributed to the noise η that we added to the model which generated the data')"
   ]
  },
  {
   "cell_type": "code",
   "execution_count": 62,
   "metadata": {},
   "outputs": [
    {
     "name": "stdout",
     "output_type": "stream",
     "text": [
      "Theta estimates follow a normal distribution with mean 2.00242 and standard deviation 0.01729\n"
     ]
    },
    {
     "data": {
      "image/png": "[encoded data removed]",
      "text/plain": [
       "<Figure size 432x288 with 1 Axes>"
      ]
     },
     "metadata": {
      "needs_background": "light"
     },
     "output_type": "display_data"
    },
    {
     "name": "stdout",
     "output_type": "stream",
     "text": [
      "The mean is really close to the actual θ of the model. We could assume that the E[θhat] is an unbiased estimate of our parameter. By increasing the datasets as well as the size of each dataset,our estimate might approach 2 even better\n"
     ]
    }
   ],
   "source": [
    "#plot the distribuition of theta\n",
    "sns.distplot(thetas)\n",
    "plt.xlabel('θ estimate')\n",
    "plt.title('Distribution of $\\hat{θ}$ estimates for 50 iterations')\n",
    "print('Theta estimates follow a normal distribution with mean {} and standard deviation {}'.format(\n",
    "                                                                                                round(thetas.mean(),5)\n",
    "                                                                                                ,round(thetas.std(),5)))\n",
    "plt.show()\n",
    "print('The mean is really close to the actual θ of the model. We could assume that the E[θhat] is an unbiased estimate of our parameter. By increasing the datasets as well as the size of each dataset,our estimate might approach 2 even better')\n"
   ]
  }
 ],
 "metadata": {
  "kernelspec": {
   "display_name": "Python 3",
   "language": "python",
   "name": "python3"
  },
  "language_info": {
   "codemirror_mode": {
    "name": "ipython",
    "version": 3
   },
   "file_extension": ".py",
   "mimetype": "text/x-python",
   "name": "python",
   "nbconvert_exporter": "python",
   "pygments_lexer": "ipython3",
   "version": "3.6.3"
  }
 },
 "nbformat": 4,
 "nbformat_minor": 4
}
