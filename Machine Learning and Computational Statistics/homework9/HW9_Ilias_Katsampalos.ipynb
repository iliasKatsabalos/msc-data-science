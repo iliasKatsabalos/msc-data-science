{
 "cells": [
  {
   "cell_type": "markdown",
   "metadata": {},
   "source": [
    "# Homework 9 - Machine Learning and Computational Statistics\n",
    "## Ilias Katsampalos"
   ]
  },
  {
   "cell_type": "markdown",
   "metadata": {},
   "source": [
    "# Exercise 1\n",
    "\n",
    "For the Logistic Regression, for a binary classification problem we can have the following compact form\n",
    "\n",
    "$$p(\\omega_i|x) = p(1|x)^y p(0|x)^{1-y}$$\n",
    "where $x$ is a vector size $l$, $y \\in \\{0,1\\}$\n",
    "\n",
    "We want to maximize the following likelihood:\n",
    "$$argmax L(\\theta) = \\prod_{n=1}^{N}p(\\omega_i|x_n) = \\prod_{n=1}^{N}p(1|x_n)^{y_n} p(0|x_n)^{1-y_n}$$\n",
    "\n",
    "The above optimization is equal with the minimization of the negative log-likelihood\n",
    "$$argmin \\ \\ log{L(\\theta)} = -\\sum_{n=1}^{N} y_n \\log{p(1|x_n)}+ (1-y_n) \\log{p(0|x_n)}$$\n",
    "\n",
    "We know that $p(1|x) = \\frac{1}{1+exp(-\\theta^Tx)} = \\sigma(\\theta^T x)$ and since we have a binary classification problem we can express $p(0|x) = 1 -\\frac{1}{1+exp(-\\theta^Tx)} = 1- \\sigma(\\theta^T x)$. Thus the above minimization can be reexpressed as \n",
    "$$argmin  \\\\  log{L(\\theta)} = -\\sum_{n=1}^{N} y_n \\log{\\sigma(\\theta^T x_n)}+ (1-y_n) \\log{\\sigma(\\theta^T x_n)}$$\n",
    "\n",
    "Taking the gradient w.r.t. the vector $\\theta$ we have\n",
    "$$\n",
    "\\begin{align*}\n",
    "\\frac{\\partial log{L(\\theta)}}{\\partial \\theta} &= -\\sum_{n=1}^{N} \\frac{y_n}{\\sigma(\\theta^T x_n)}\\sigma(\\theta^T x_n)(1-\\sigma(\\theta^T x_n))x_n - \\frac{1-y_n}{1-\\sigma(\\theta^T x_n)}\\sigma(\\theta^T x_n)(1-\\sigma(\\theta^T x_n))x_n \\\\\n",
    "&= -\\sum_{n=1}^{N} y_n(1-\\sigma(\\theta^T x_n))x_n - (1-y_n)\\sigma(\\theta^T x_n)x_n \\\\\n",
    "&= -\\sum_{n=1}^{N} y_nx_n - y_nx_n\\sigma(\\theta^T x_n) - \\sigma(\\theta^T x_n)x_n + y_nx_n\\sigma(\\theta^T x_n) \\\\\n",
    "&= -\\sum_{n=1}^{N} y_nx_n - \\sigma(\\theta^T x_n)x_n \\\\\n",
    "&= \\sum_{n=1}^{N} (\\sigma(\\theta^T x_n) - y_n)x_n \\\\\n",
    "&= X^T(\\sigma(X\\theta) - y)\n",
    "\\end{align*}\n",
    "$$\n",
    "\n",
    "The gradient scheme can be expressed as:\n",
    "\n",
    "$$\n",
    "\\begin{align*}\n",
    "\\theta^{(i)} &= \\theta^{(i-1)} - m_i\\nabla log{L(\\theta)}\\big|_{\\theta=\\theta^{(i-1)}} \\\\\n",
    "&= \\theta^{(i-1)} - m_i X^T(\\sigma(X\\theta^{(i-1)}) - y) \\\\\n",
    "\\end{align*}\n",
    "$$"
   ]
  },
  {
   "cell_type": "markdown",
   "metadata": {},
   "source": [
    "# Exercise 2\n",
    "\n",
    "## a)"
   ]
  },
  {
   "cell_type": "code",
   "execution_count": 4,
   "metadata": {},
   "outputs": [
    {
     "data": {
      "image/png": "[encoded data removed]",
      "text/plain": [
       "<Figure size 432x288 with 1 Axes>"
      ]
     },
     "metadata": {
      "needs_background": "light"
     },
     "output_type": "display_data"
    }
   ],
   "source": [
    "import numpy as np\n",
    "from matplotlib import pyplot as plt\n",
    "f = lambda a,z: 1/(1+np.exp(-a*z))\n",
    "n=200\n",
    "z = np.random.uniform(-1,1,n)\n",
    "\n",
    "import seaborn as sns\n",
    "for a in np.arange(1,40,5):\n",
    "    sns.lineplot(z,f(a,z), label=a)\n",
    "plt.title('$f(z;a)$ for different values of a')\n",
    "plt.show()"
   ]
  },
  {
   "cell_type": "markdown",
   "metadata": {},
   "source": [
    "## b)"
   ]
  },
  {
   "cell_type": "markdown",
   "metadata": {},
   "source": [
    "We have the cost function \n",
    "$$\n",
    "\\begin{align*}\n",
    "J(\\theta) = \\sum_{n=1}^{N} \\big(y_n - f(\\theta^Tx_n)\\big)^2 = \\sum_{n=1}^{N} \\big(y_n - \\frac{1}{1+exp(a\\theta^Tx)}\\big)^2\n",
    "\\end{align*}\n",
    "$$\n",
    "Setting $\\sigma(a\\theta^Tx) = \\frac{1}{1+exp(a\\theta^Tx)}$ and taking the gradient w.r.t $\\theta$\n",
    "\n",
    "$$\n",
    "\\begin{align*}\n",
    "\\nabla J(\\theta) = -2\\sum_{n=1}^{N} \\big(y_n - \\sigma(a\\theta^Tx)\\big) a\\sigma(\\theta^Tx) (1-\\sigma(\\theta^Tx))x_n\n",
    "\\end{align*}\n",
    "$$\n",
    "\n",
    "Our gradient descent scheme could be expressed as \n",
    "$$\n",
    "\\begin{align*}\n",
    "\\theta^{(i)} &= \\theta^{(i-1)} - m_i \\nabla J(\\theta)\\big|_{\\theta=\\theta^{(i-1)}} \\\\\n",
    "&=\\theta^{(i-1)} + m_i \\sum_{n=1}^{N} \\big(y_n - \\sigma(a\\theta^Tx)\\big) a\\sigma(\\theta^Tx) (1-\\sigma(\\theta^Tx))x_n\n",
    "\\end{align*}\n",
    "$$"
   ]
  },
  {
   "cell_type": "markdown",
   "metadata": {},
   "source": [
    "## c)\n",
    "Since we have plotted the function we can see that asymptotically it reaches the value `1` when x grows to +$\\infty$ whereas the function reaches asymptotically the value `0` when x grows to - $\\infty$. Since we cannot observe these values in real problems, it is not possible for the model to respond with a clear `1` or `0`"
   ]
  },
  {
   "cell_type": "markdown",
   "metadata": {},
   "source": [
    "## d)\n",
    "The response of the model can be interpreted as the probability of a datapoint to belong to class `1`."
   ]
  },
  {
   "cell_type": "markdown",
   "metadata": {},
   "source": [
    "## e)\n",
    "Since we plotted the function for different values of $a$, we notice that by increasing its value the sigmoid shape becomes steeper. In the case where $a$ approaches infinity we end up with a step function that will respon|d only with `1` or `0`"
   ]
  },
  {
   "cell_type": "markdown",
   "metadata": {},
   "source": [
    "# Exercise 3\n",
    "\n",
    "We can exploit the fact that our values are sorted, by limiting our search for the splitting threshold in the area where class `0` overlaps with class `1` (if there is any overlap). Then we will calculate the Delta Impurity only for those datapoints and retrieve the datapoint with the largest impact on the original impurity\n",
    "\n",
    "```python\n",
    "def find_threshold(class_0, class_1)\n",
    "    all = concatenate(class_0, class_1)\n",
    "    overlap = class_0 > class_1\n",
    "    if overlap == None:\n",
    "        return max(class_0)\n",
    "    impurity_t = calculate impurity at node t\n",
    "    candidate_deltas = []\n",
    "    for candidates in overlap:\n",
    "        ty = all > threshold\n",
    "        tn = all < threshold\n",
    "        impurity_ty = calculate impurity at ty\n",
    "        impurity_tn = calculate impurity at tn\n",
    "        delta_impurity = impurity_t - ty/all impurity_ty - tn/all impurity_tn\n",
    "        candidate_deltas.append(delta_impurity)\n",
    "    return max(candidate_deltas)\n",
    "```"
   ]
  },
  {
   "cell_type": "markdown",
   "metadata": {},
   "source": [
    "# Exercise 4\n",
    "\n",
    "for $x_1 <= 3$ we have\n",
    "* $I(t) = -p(\\omega_1)\\log{p(\\omega_1)} - p(\\omega_2)\\log{p(\\omega_2)} = -\\frac{2}{5}\\log\\frac{2}{5} -\\frac{3}{5}\\log\\frac{3}{5} = 0.9710$\n",
    "* $I(t_y) = -p(\\omega_1)\\log{p(\\omega_1)} - p(\\omega_2)\\log{p(\\omega_2)} = -\\frac{2}{3}\\log\\frac{2}{3} -\\frac{1}{3}\\log\\frac{1}{3} = 0.92$\n",
    "* $I(t_n) = -p(\\omega_1)\\log{p(\\omega_1)} - p(\\omega_2)\\log{p(\\omega_2)} = -0\\log0 - 1\\log {1} = 0$\n",
    "* $\\Delta I = I(t) - \\frac{N_{t_y}}{N_t} I(t_y) - \\frac{N_{t_n}}{N_t} I(t_n) = 0.9710  - \\frac{3}{5} 0.92 - \\frac{2}{5}0 = 0.42$\n"
   ]
  },
  {
   "cell_type": "markdown",
   "metadata": {},
   "source": [
    "# Exercrise 5"
   ]
  },
  {
   "cell_type": "code",
   "execution_count": 321,
   "metadata": {},
   "outputs": [],
   "source": [
    "import scipy.io as sio\n",
    "import numpy as np\n",
    "import matplotlib.pyplot as plt\n",
    "Dataset = sio.loadmat('HW8.mat')\n",
    "train_x = Dataset['train_x']\n",
    "train_y= Dataset['train_y'].reshape(-1)\n",
    "test_x = Dataset['test_x']\n",
    "test_y = Dataset['test_y'].reshape(-1)"
   ]
  },
  {
   "cell_type": "markdown",
   "metadata": {},
   "source": [
    "## a) Bayesian Classifier"
   ]
  },
  {
   "cell_type": "code",
   "execution_count": 356,
   "metadata": {},
   "outputs": [],
   "source": [
    "from scipy.stats import multivariate_normal\n",
    "def class_statistics(class_, X, y):\n",
    "    n = len(X)\n",
    "    X = X[y==class_]\n",
    "    p_omega = len(X) / n\n",
    "    means = np.mean(X, axis=0)\n",
    "    covariance = (X- means).T @ (X- means) / len(X) \n",
    "    return (p_omega, means, covariance)\n",
    "\n",
    "p_omega_1, means_1, covariance_1 = class_statistics(1,train_x, train_y)\n",
    "p_omega_2, means_2, covariance_2 = class_statistics(2,train_x, train_y)\n",
    "\n",
    "posterior_1 = lambda x: multivariate_normal(means_1, covariance_1).pdf(x) * p_omega_1\n",
    "posterior_2 = lambda x: multivariate_normal(means_2, covariance_2).pdf(x) * p_omega_2\n",
    "predict_label = lambda x: np.argmax(np.column_stack([posterior_1(x), posterior_2(x)]),axis=1) + 1"
   ]
  },
  {
   "cell_type": "code",
   "execution_count": 358,
   "metadata": {},
   "outputs": [
    {
     "name": "stdout",
     "output_type": "stream",
     "text": [
      "Classification Error of Bayes Classifier: 0.15\n"
     ]
    }
   ],
   "source": [
    "Btest_y = predict_label(test_x)\n",
    "classification_error_bc = np.sum(Btest_y != test_y) / len(test_y)\n",
    "print ('Classification Error of Bayes Classifier:', classification_error_bc)"
   ]
  },
  {
   "cell_type": "markdown",
   "metadata": {},
   "source": [
    "## b) Naive Bayes Classifier"
   ]
  },
  {
   "cell_type": "code",
   "execution_count": 359,
   "metadata": {},
   "outputs": [],
   "source": [
    "from scipy.stats import multivariate_normal\n",
    "def class_statistics(class_, X, y):\n",
    "    n = len(X)\n",
    "    X = X[y==class_]\n",
    "    p_omega = len(X) / n\n",
    "    means = np.mean(X, axis=0)\n",
    "    covariance = (X- means).T @ (X- means) / len(X) * np.identity(X.shape[1])\n",
    "    return (p_omega, means, covariance)\n",
    "\n",
    "p_omega_1, means_1, covariance_1 = class_statistics(1,train_x, train_y)\n",
    "p_omega_2, means_2, covariance_2 = class_statistics(2,train_x, train_y)\n",
    "\n",
    "posterior_1 = lambda x: multivariate_normal(means_1, covariance_1).pdf(x) * p_omega_1\n",
    "posterior_2 = lambda x: multivariate_normal(means_2, covariance_2).pdf(x) * p_omega_2\n",
    "predict_label = lambda x: np.argmax(np.column_stack([posterior_1(x), posterior_2(x)]),axis=1) + 1"
   ]
  },
  {
   "cell_type": "code",
   "execution_count": 360,
   "metadata": {},
   "outputs": [
    {
     "name": "stdout",
     "output_type": "stream",
     "text": [
      "Classification Error of Bayes Classifier: 0.165\n"
     ]
    }
   ],
   "source": [
    "Btest_y = predict_label(test_x)\n",
    "classification_error_nbc = np.sum(Btest_y != test_y) / len(test_y)\n",
    "print ('Classification Error of Naive Bayes Classifier:', classification_error_nbc)"
   ]
  },
  {
   "cell_type": "markdown",
   "metadata": {},
   "source": [
    "## c) KNN"
   ]
  },
  {
   "cell_type": "code",
   "execution_count": 363,
   "metadata": {},
   "outputs": [
    {
     "name": "stdout",
     "output_type": "stream",
     "text": [
      "Classification Error of Bayes Classifier: 0.17\n"
     ]
    }
   ],
   "source": [
    "from sklearn.neighbors import KNeighborsClassifier\n",
    "knn = KNeighborsClassifier(n_neighbors=5)\n",
    "knn.fit(train_x, train_y)\n",
    "Btest_y = knn.predict(test_x)\n",
    "classification_error_knn = np.sum(Btest_y != test_y) / len(test_y)\n",
    "print ('Classification Error of KNN Classifier:', classification_error_knn)"
   ]
  },
  {
   "cell_type": "markdown",
   "metadata": {},
   "source": [
    "## d) Logistic Regression"
   ]
  },
  {
   "cell_type": "code",
   "execution_count": 366,
   "metadata": {},
   "outputs": [
    {
     "name": "stdout",
     "output_type": "stream",
     "text": [
      "Classification Error of Logistic Regression: 0.155\n"
     ]
    }
   ],
   "source": [
    "from sklearn.linear_model import LogisticRegression\n",
    "lr = LogisticRegression()\n",
    "lr.fit(train_x, train_y)\n",
    "Btest_y = lr.predict(test_x)\n",
    "classification_error_lr = np.sum(Btest_y != test_y) / len(test_y)\n",
    "print ('Classification Error of Logistic Regression:', classification_error_lr)"
   ]
  },
  {
   "cell_type": "markdown",
   "metadata": {},
   "source": [
    "## e)"
   ]
  },
  {
   "cell_type": "code",
   "execution_count": 355,
   "metadata": {},
   "outputs": [
    {
     "data": {
      "image/png": "[encoded data removed]",
      "text/plain": [
       "<Figure size 432x288 with 1 Axes>"
      ]
     },
     "metadata": {
      "needs_background": "light"
     },
     "output_type": "display_data"
    }
   ],
   "source": [
    "plt.scatter(train_x[train_y==1][:,0], train_x[train_y==1][:,1], label='class 1')\n",
    "plt.scatter(train_x[train_y==2][:,0], train_x[train_y==2][:,1], label='class 2')\n",
    "plt.legend()\n",
    "plt.show()"
   ]
  },
  {
   "cell_type": "markdown",
   "metadata": {},
   "source": [
    "## f)"
   ]
  },
  {
   "cell_type": "code",
   "execution_count": 368,
   "metadata": {},
   "outputs": [
    {
     "name": "stdout",
     "output_type": "stream",
     "text": [
      "Classification Error of Bayes Classifier: 0.15\n",
      "Classification Error of Naive Bayes Classifier: 0.165\n",
      "Classification Error of KNN Classifier: 0.17\n",
      "Classification Error of Logistic Regression: 0.155\n"
     ]
    }
   ],
   "source": [
    "print ('Classification Error of Bayes Classifier:', classification_error_bc)\n",
    "print ('Classification Error of Naive Bayes Classifier:', classification_error_nbc)\n",
    "print ('Classification Error of KNN Classifier:', classification_error_knn)\n",
    "print ('Classification Error of Logistic Regression:', classification_error_lr)"
   ]
  },
  {
   "cell_type": "markdown",
   "metadata": {},
   "source": [
    "* Bayes Classifier achieves the best score, since looking at the plot we can observe 2 different normal distributions with covariance matrices which are not diagonal. Since we have only a 2 features, there are not many parameters that need to be estimated for the Bayes Classifier. As a result it approaches better the model that generated the data\n",
    "* Naive Bayes Classifier achieves a slightly worse score. It assumes independence between the features of each class, something that is not observed in the data. The results would be the same as the Bayes classifier if the covariance matrices of the 2 classes were diagonal\n",
    "* KNN classifier has the worst performance. As it is a non parametric model, it fails to approach the model that generated the data and the patterns it creates\n",
    "* Logistic Regression has a good score. Even though it did not make any assumptions on the distribution it managed to approach pretty good the model that generated the data"
   ]
  }
 ],
 "metadata": {
  "kernelspec": {
   "display_name": "Python 3",
   "language": "python",
   "name": "python3"
  },
  "language_info": {
   "codemirror_mode": {
    "name": "ipython",
    "version": 3
   },
   "file_extension": ".py",
   "mimetype": "text/x-python",
   "name": "python",
   "nbconvert_exporter": "python",
   "pygments_lexer": "ipython3",
   "version": "3.8.3"
  }
 },
 "nbformat": 4,
 "nbformat_minor": 2
}
